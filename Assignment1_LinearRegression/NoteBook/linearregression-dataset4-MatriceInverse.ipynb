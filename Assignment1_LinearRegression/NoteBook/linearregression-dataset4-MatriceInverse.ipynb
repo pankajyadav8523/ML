{
 "cells": [
  {
   "cell_type": "code",
   "execution_count": 1,
   "id": "ccdb5044",
   "metadata": {
    "execution": {
     "iopub.execute_input": "2024-01-26T17:53:11.814280Z",
     "iopub.status.busy": "2024-01-26T17:53:11.813898Z",
     "iopub.status.idle": "2024-01-26T17:53:12.712894Z",
     "shell.execute_reply": "2024-01-26T17:53:12.711920Z"
    },
    "papermill": {
     "duration": 0.914677,
     "end_time": "2024-01-26T17:53:12.715616",
     "exception": false,
     "start_time": "2024-01-26T17:53:11.800939",
     "status": "completed"
    },
    "tags": []
   },
   "outputs": [],
   "source": [
    "import pandas as pd\n",
    "import numpy as np\n",
    "import matplotlib.pyplot as plt"
   ]
  },
  {
   "cell_type": "markdown",
   "id": "6e3cc420",
   "metadata": {
    "papermill": {
     "duration": 0.011108,
     "end_time": "2024-01-26T17:53:12.737577",
     "exception": false,
     "start_time": "2024-01-26T17:53:12.726469",
     "status": "completed"
    },
    "tags": []
   },
   "source": [
    "**Predicting for DataSet4**\n"
   ]
  },
  {
   "cell_type": "code",
   "execution_count": 2,
   "id": "4722edc5",
   "metadata": {
    "execution": {
     "iopub.execute_input": "2024-01-26T17:53:12.761840Z",
     "iopub.status.busy": "2024-01-26T17:53:12.761305Z",
     "iopub.status.idle": "2024-01-26T17:53:12.781581Z",
     "shell.execute_reply": "2024-01-26T17:53:12.780316Z"
    },
    "papermill": {
     "duration": 0.035626,
     "end_time": "2024-01-26T17:53:12.784369",
     "exception": false,
     "start_time": "2024-01-26T17:53:12.748743",
     "status": "completed"
    },
    "tags": []
   },
   "outputs": [],
   "source": [
    "df4 = pd.read_csv('/kaggle/input/dataset4/Data4.csv')"
   ]
  },
  {
   "cell_type": "code",
   "execution_count": 3,
   "id": "1bee3134",
   "metadata": {
    "execution": {
     "iopub.execute_input": "2024-01-26T17:53:12.808504Z",
     "iopub.status.busy": "2024-01-26T17:53:12.807565Z",
     "iopub.status.idle": "2024-01-26T17:53:12.843747Z",
     "shell.execute_reply": "2024-01-26T17:53:12.842604Z"
    },
    "papermill": {
     "duration": 0.051078,
     "end_time": "2024-01-26T17:53:12.846503",
     "exception": false,
     "start_time": "2024-01-26T17:53:12.795425",
     "status": "completed"
    },
    "tags": []
   },
   "outputs": [
    {
     "data": {
      "text/html": [
       "<div>\n",
       "<style scoped>\n",
       "    .dataframe tbody tr th:only-of-type {\n",
       "        vertical-align: middle;\n",
       "    }\n",
       "\n",
       "    .dataframe tbody tr th {\n",
       "        vertical-align: top;\n",
       "    }\n",
       "\n",
       "    .dataframe thead th {\n",
       "        text-align: right;\n",
       "    }\n",
       "</style>\n",
       "<table border=\"1\" class=\"dataframe\">\n",
       "  <thead>\n",
       "    <tr style=\"text-align: right;\">\n",
       "      <th></th>\n",
       "      <th>Sl.</th>\n",
       "      <th>x1</th>\n",
       "      <th>x2</th>\n",
       "      <th>x3</th>\n",
       "      <th>y</th>\n",
       "    </tr>\n",
       "  </thead>\n",
       "  <tbody>\n",
       "    <tr>\n",
       "      <th>0</th>\n",
       "      <td>1</td>\n",
       "      <td>0.1</td>\n",
       "      <td>0.311089</td>\n",
       "      <td>0.390541</td>\n",
       "      <td>14.705876</td>\n",
       "    </tr>\n",
       "    <tr>\n",
       "      <th>1</th>\n",
       "      <td>2</td>\n",
       "      <td>0.2</td>\n",
       "      <td>0.639066</td>\n",
       "      <td>1.389918</td>\n",
       "      <td>26.585100</td>\n",
       "    </tr>\n",
       "    <tr>\n",
       "      <th>2</th>\n",
       "      <td>3</td>\n",
       "      <td>0.3</td>\n",
       "      <td>0.840228</td>\n",
       "      <td>1.939903</td>\n",
       "      <td>36.791509</td>\n",
       "    </tr>\n",
       "    <tr>\n",
       "      <th>3</th>\n",
       "      <td>4</td>\n",
       "      <td>0.4</td>\n",
       "      <td>1.299710</td>\n",
       "      <td>2.153009</td>\n",
       "      <td>34.090806</td>\n",
       "    </tr>\n",
       "    <tr>\n",
       "      <th>4</th>\n",
       "      <td>5</td>\n",
       "      <td>0.5</td>\n",
       "      <td>0.941784</td>\n",
       "      <td>0.945136</td>\n",
       "      <td>31.118089</td>\n",
       "    </tr>\n",
       "    <tr>\n",
       "      <th>...</th>\n",
       "      <td>...</td>\n",
       "      <td>...</td>\n",
       "      <td>...</td>\n",
       "      <td>...</td>\n",
       "      <td>...</td>\n",
       "    </tr>\n",
       "    <tr>\n",
       "      <th>95</th>\n",
       "      <td>96</td>\n",
       "      <td>9.6</td>\n",
       "      <td>10.336087</td>\n",
       "      <td>9.979673</td>\n",
       "      <td>183.744594</td>\n",
       "    </tr>\n",
       "    <tr>\n",
       "      <th>96</th>\n",
       "      <td>97</td>\n",
       "      <td>9.7</td>\n",
       "      <td>9.928599</td>\n",
       "      <td>10.721891</td>\n",
       "      <td>175.907274</td>\n",
       "    </tr>\n",
       "    <tr>\n",
       "      <th>97</th>\n",
       "      <td>98</td>\n",
       "      <td>9.8</td>\n",
       "      <td>10.109046</td>\n",
       "      <td>10.163445</td>\n",
       "      <td>183.992845</td>\n",
       "    </tr>\n",
       "    <tr>\n",
       "      <th>98</th>\n",
       "      <td>99</td>\n",
       "      <td>9.9</td>\n",
       "      <td>9.954540</td>\n",
       "      <td>10.562039</td>\n",
       "      <td>173.920425</td>\n",
       "    </tr>\n",
       "    <tr>\n",
       "      <th>99</th>\n",
       "      <td>100</td>\n",
       "      <td>10.0</td>\n",
       "      <td>10.469087</td>\n",
       "      <td>10.727984</td>\n",
       "      <td>179.018755</td>\n",
       "    </tr>\n",
       "  </tbody>\n",
       "</table>\n",
       "<p>100 rows × 5 columns</p>\n",
       "</div>"
      ],
      "text/plain": [
       "    Sl.    x1         x2         x3           y\n",
       "0     1   0.1   0.311089   0.390541   14.705876\n",
       "1     2   0.2   0.639066   1.389918   26.585100\n",
       "2     3   0.3   0.840228   1.939903   36.791509\n",
       "3     4   0.4   1.299710   2.153009   34.090806\n",
       "4     5   0.5   0.941784   0.945136   31.118089\n",
       "..  ...   ...        ...        ...         ...\n",
       "95   96   9.6  10.336087   9.979673  183.744594\n",
       "96   97   9.7   9.928599  10.721891  175.907274\n",
       "97   98   9.8  10.109046  10.163445  183.992845\n",
       "98   99   9.9   9.954540  10.562039  173.920425\n",
       "99  100  10.0  10.469087  10.727984  179.018755\n",
       "\n",
       "[100 rows x 5 columns]"
      ]
     },
     "execution_count": 3,
     "metadata": {},
     "output_type": "execute_result"
    }
   ],
   "source": [
    "df4"
   ]
  },
  {
   "cell_type": "code",
   "execution_count": 4,
   "id": "d9acc79c",
   "metadata": {
    "execution": {
     "iopub.execute_input": "2024-01-26T17:53:12.871981Z",
     "iopub.status.busy": "2024-01-26T17:53:12.871191Z",
     "iopub.status.idle": "2024-01-26T17:53:12.875976Z",
     "shell.execute_reply": "2024-01-26T17:53:12.875165Z"
    },
    "papermill": {
     "duration": 0.020008,
     "end_time": "2024-01-26T17:53:12.878227",
     "exception": false,
     "start_time": "2024-01-26T17:53:12.858219",
     "status": "completed"
    },
    "tags": []
   },
   "outputs": [],
   "source": [
    "c = 0.2"
   ]
  },
  {
   "cell_type": "code",
   "execution_count": 5,
   "id": "bac1e1ca",
   "metadata": {
    "execution": {
     "iopub.execute_input": "2024-01-26T17:53:12.903537Z",
     "iopub.status.busy": "2024-01-26T17:53:12.902653Z",
     "iopub.status.idle": "2024-01-26T17:53:12.908353Z",
     "shell.execute_reply": "2024-01-26T17:53:12.907375Z"
    },
    "papermill": {
     "duration": 0.021082,
     "end_time": "2024-01-26T17:53:12.910701",
     "exception": false,
     "start_time": "2024-01-26T17:53:12.889619",
     "status": "completed"
    },
    "tags": []
   },
   "outputs": [],
   "source": [
    "y = df4['y']"
   ]
  },
  {
   "cell_type": "code",
   "execution_count": 6,
   "id": "bff1e3f3",
   "metadata": {
    "execution": {
     "iopub.execute_input": "2024-01-26T17:53:12.935459Z",
     "iopub.status.busy": "2024-01-26T17:53:12.934626Z",
     "iopub.status.idle": "2024-01-26T17:53:12.939646Z",
     "shell.execute_reply": "2024-01-26T17:53:12.938885Z"
    },
    "papermill": {
     "duration": 0.019952,
     "end_time": "2024-01-26T17:53:12.942012",
     "exception": false,
     "start_time": "2024-01-26T17:53:12.922060",
     "status": "completed"
    },
    "tags": []
   },
   "outputs": [],
   "source": [
    "y_array = np.array(y)"
   ]
  },
  {
   "cell_type": "code",
   "execution_count": 7,
   "id": "282d70a3",
   "metadata": {
    "execution": {
     "iopub.execute_input": "2024-01-26T17:53:12.966118Z",
     "iopub.status.busy": "2024-01-26T17:53:12.965743Z",
     "iopub.status.idle": "2024-01-26T17:53:12.972804Z",
     "shell.execute_reply": "2024-01-26T17:53:12.971714Z"
    },
    "papermill": {
     "duration": 0.021511,
     "end_time": "2024-01-26T17:53:12.975070",
     "exception": false,
     "start_time": "2024-01-26T17:53:12.953559",
     "status": "completed"
    },
    "tags": []
   },
   "outputs": [
    {
     "data": {
      "text/plain": [
       "14.7058762"
      ]
     },
     "execution_count": 7,
     "metadata": {},
     "output_type": "execute_result"
    }
   ],
   "source": [
    "y_array[0]"
   ]
  },
  {
   "cell_type": "code",
   "execution_count": 8,
   "id": "a1eeade5",
   "metadata": {
    "execution": {
     "iopub.execute_input": "2024-01-26T17:53:12.999555Z",
     "iopub.status.busy": "2024-01-26T17:53:12.999008Z",
     "iopub.status.idle": "2024-01-26T17:53:13.015991Z",
     "shell.execute_reply": "2024-01-26T17:53:13.014766Z"
    },
    "papermill": {
     "duration": 0.032439,
     "end_time": "2024-01-26T17:53:13.018473",
     "exception": false,
     "start_time": "2024-01-26T17:53:12.986034",
     "status": "completed"
    },
    "tags": []
   },
   "outputs": [],
   "source": [
    "df4 = df4.drop(columns='y')\n",
    "df4 = df4.drop(columns='Sl.')"
   ]
  },
  {
   "cell_type": "code",
   "execution_count": 9,
   "id": "5d8cf336",
   "metadata": {
    "execution": {
     "iopub.execute_input": "2024-01-26T17:53:13.042824Z",
     "iopub.status.busy": "2024-01-26T17:53:13.041966Z",
     "iopub.status.idle": "2024-01-26T17:53:13.056460Z",
     "shell.execute_reply": "2024-01-26T17:53:13.055355Z"
    },
    "papermill": {
     "duration": 0.029243,
     "end_time": "2024-01-26T17:53:13.058876",
     "exception": false,
     "start_time": "2024-01-26T17:53:13.029633",
     "status": "completed"
    },
    "tags": []
   },
   "outputs": [
    {
     "data": {
      "text/html": [
       "<div>\n",
       "<style scoped>\n",
       "    .dataframe tbody tr th:only-of-type {\n",
       "        vertical-align: middle;\n",
       "    }\n",
       "\n",
       "    .dataframe tbody tr th {\n",
       "        vertical-align: top;\n",
       "    }\n",
       "\n",
       "    .dataframe thead th {\n",
       "        text-align: right;\n",
       "    }\n",
       "</style>\n",
       "<table border=\"1\" class=\"dataframe\">\n",
       "  <thead>\n",
       "    <tr style=\"text-align: right;\">\n",
       "      <th></th>\n",
       "      <th>x1</th>\n",
       "      <th>x2</th>\n",
       "      <th>x3</th>\n",
       "    </tr>\n",
       "  </thead>\n",
       "  <tbody>\n",
       "    <tr>\n",
       "      <th>0</th>\n",
       "      <td>0.1</td>\n",
       "      <td>0.311089</td>\n",
       "      <td>0.390541</td>\n",
       "    </tr>\n",
       "    <tr>\n",
       "      <th>1</th>\n",
       "      <td>0.2</td>\n",
       "      <td>0.639066</td>\n",
       "      <td>1.389918</td>\n",
       "    </tr>\n",
       "    <tr>\n",
       "      <th>2</th>\n",
       "      <td>0.3</td>\n",
       "      <td>0.840228</td>\n",
       "      <td>1.939903</td>\n",
       "    </tr>\n",
       "    <tr>\n",
       "      <th>3</th>\n",
       "      <td>0.4</td>\n",
       "      <td>1.299710</td>\n",
       "      <td>2.153009</td>\n",
       "    </tr>\n",
       "    <tr>\n",
       "      <th>4</th>\n",
       "      <td>0.5</td>\n",
       "      <td>0.941784</td>\n",
       "      <td>0.945136</td>\n",
       "    </tr>\n",
       "    <tr>\n",
       "      <th>...</th>\n",
       "      <td>...</td>\n",
       "      <td>...</td>\n",
       "      <td>...</td>\n",
       "    </tr>\n",
       "    <tr>\n",
       "      <th>95</th>\n",
       "      <td>9.6</td>\n",
       "      <td>10.336087</td>\n",
       "      <td>9.979673</td>\n",
       "    </tr>\n",
       "    <tr>\n",
       "      <th>96</th>\n",
       "      <td>9.7</td>\n",
       "      <td>9.928599</td>\n",
       "      <td>10.721891</td>\n",
       "    </tr>\n",
       "    <tr>\n",
       "      <th>97</th>\n",
       "      <td>9.8</td>\n",
       "      <td>10.109046</td>\n",
       "      <td>10.163445</td>\n",
       "    </tr>\n",
       "    <tr>\n",
       "      <th>98</th>\n",
       "      <td>9.9</td>\n",
       "      <td>9.954540</td>\n",
       "      <td>10.562039</td>\n",
       "    </tr>\n",
       "    <tr>\n",
       "      <th>99</th>\n",
       "      <td>10.0</td>\n",
       "      <td>10.469087</td>\n",
       "      <td>10.727984</td>\n",
       "    </tr>\n",
       "  </tbody>\n",
       "</table>\n",
       "<p>100 rows × 3 columns</p>\n",
       "</div>"
      ],
      "text/plain": [
       "      x1         x2         x3\n",
       "0    0.1   0.311089   0.390541\n",
       "1    0.2   0.639066   1.389918\n",
       "2    0.3   0.840228   1.939903\n",
       "3    0.4   1.299710   2.153009\n",
       "4    0.5   0.941784   0.945136\n",
       "..   ...        ...        ...\n",
       "95   9.6  10.336087   9.979673\n",
       "96   9.7   9.928599  10.721891\n",
       "97   9.8  10.109046  10.163445\n",
       "98   9.9   9.954540  10.562039\n",
       "99  10.0  10.469087  10.727984\n",
       "\n",
       "[100 rows x 3 columns]"
      ]
     },
     "execution_count": 9,
     "metadata": {},
     "output_type": "execute_result"
    }
   ],
   "source": [
    "df4"
   ]
  },
  {
   "cell_type": "code",
   "execution_count": 10,
   "id": "28c0345c",
   "metadata": {
    "execution": {
     "iopub.execute_input": "2024-01-26T17:53:13.083779Z",
     "iopub.status.busy": "2024-01-26T17:53:13.083341Z",
     "iopub.status.idle": "2024-01-26T17:53:13.089349Z",
     "shell.execute_reply": "2024-01-26T17:53:13.088062Z"
    },
    "papermill": {
     "duration": 0.021633,
     "end_time": "2024-01-26T17:53:13.092310",
     "exception": false,
     "start_time": "2024-01-26T17:53:13.070677",
     "status": "completed"
    },
    "tags": []
   },
   "outputs": [
    {
     "name": "stdout",
     "output_type": "stream",
     "text": [
      "3\n"
     ]
    }
   ],
   "source": [
    "n = df4.shape[1]\n",
    "print(n)"
   ]
  },
  {
   "cell_type": "code",
   "execution_count": 11,
   "id": "6753bb76",
   "metadata": {
    "execution": {
     "iopub.execute_input": "2024-01-26T17:53:13.117133Z",
     "iopub.status.busy": "2024-01-26T17:53:13.116739Z",
     "iopub.status.idle": "2024-01-26T17:53:13.136134Z",
     "shell.execute_reply": "2024-01-26T17:53:13.134729Z"
    },
    "papermill": {
     "duration": 0.034768,
     "end_time": "2024-01-26T17:53:13.138609",
     "exception": false,
     "start_time": "2024-01-26T17:53:13.103841",
     "status": "completed"
    },
    "tags": []
   },
   "outputs": [
    {
     "name": "stdout",
     "output_type": "stream",
     "text": [
      "Resulting Matrix A:\n",
      "[[3383.5        3641.01643904 3863.4271195 ]\n",
      " [3641.01643904 3929.68278392 4171.37422047]\n",
      " [3863.4271195  4171.37422047 4472.48767615]]\n"
     ]
    }
   ],
   "source": [
    "A = np.zeros((n,n))\n",
    "for i in range(len(df4)):\n",
    "    r = np.array(df4.iloc[i])\n",
    "    a1 = r.reshape((n, 1))\n",
    "    a2 = a1.T\n",
    "#     print(a1, a2)\n",
    "    A += a1@a2\n",
    "\n",
    "print(\"Resulting Matrix A:\")\n",
    "print(A)"
   ]
  },
  {
   "cell_type": "code",
   "execution_count": 12,
   "id": "2e02d582",
   "metadata": {
    "execution": {
     "iopub.execute_input": "2024-01-26T17:53:13.165387Z",
     "iopub.status.busy": "2024-01-26T17:53:13.164702Z",
     "iopub.status.idle": "2024-01-26T17:53:13.178187Z",
     "shell.execute_reply": "2024-01-26T17:53:13.177041Z"
    },
    "papermill": {
     "duration": 0.030103,
     "end_time": "2024-01-26T17:53:13.180977",
     "exception": false,
     "start_time": "2024-01-26T17:53:13.150874",
     "status": "completed"
    },
    "tags": []
   },
   "outputs": [
    {
     "name": "stdout",
     "output_type": "stream",
     "text": [
      "Original Matrix A:\n",
      "[[3383.5        3641.01643904 3863.4271195 ]\n",
      " [3641.01643904 3929.68278392 4171.37422047]\n",
      " [3863.4271195  4171.37422047 4472.48767615]]\n",
      "\n",
      "Inverse of Matrix A:\n",
      "[[ 0.10108392 -0.09733483  0.00346332]\n",
      " [-0.09733483  0.11926801 -0.02715837]\n",
      " [ 0.00346332 -0.02715837  0.02256181]]\n"
     ]
    }
   ],
   "source": [
    "A_inv = np.linalg.inv(A)\n",
    "\n",
    "print(\"Original Matrix A:\")\n",
    "print(A)\n",
    "\n",
    "print(\"\\nInverse of Matrix A:\")\n",
    "print(A_inv)"
   ]
  },
  {
   "cell_type": "code",
   "execution_count": 13,
   "id": "29450b57",
   "metadata": {
    "execution": {
     "iopub.execute_input": "2024-01-26T17:53:13.208018Z",
     "iopub.status.busy": "2024-01-26T17:53:13.206629Z",
     "iopub.status.idle": "2024-01-26T17:53:13.222067Z",
     "shell.execute_reply": "2024-01-26T17:53:13.220899Z"
    },
    "papermill": {
     "duration": 0.031161,
     "end_time": "2024-01-26T17:53:13.224544",
     "exception": false,
     "start_time": "2024-01-26T17:53:13.193383",
     "status": "completed"
    },
    "tags": []
   },
   "outputs": [
    {
     "name": "stdout",
     "output_type": "stream",
     "text": [
      "[[66074.55450872]\n",
      " [71379.27277894]\n",
      " [76343.57296322]]\n"
     ]
    }
   ],
   "source": [
    "# b = summation of (X_i*Y_i) from i = 0 to n\n",
    "\n",
    "b = np.zeros((n,1))\n",
    "\n",
    "for i in range(len(df4)):\n",
    "    r = np.array(df4.iloc[i])\n",
    "    b1 = r.reshape((n,1))\n",
    "    b2 = y_array[i].reshape((1,1))\n",
    "    b += b1@b2\n",
    "    \n",
    "print(b)"
   ]
  },
  {
   "cell_type": "code",
   "execution_count": 14,
   "id": "d61d9289",
   "metadata": {
    "execution": {
     "iopub.execute_input": "2024-01-26T17:53:13.250426Z",
     "iopub.status.busy": "2024-01-26T17:53:13.249607Z",
     "iopub.status.idle": "2024-01-26T17:53:13.256077Z",
     "shell.execute_reply": "2024-01-26T17:53:13.254882Z"
    },
    "papermill": {
     "duration": 0.022135,
     "end_time": "2024-01-26T17:53:13.258331",
     "exception": false,
     "start_time": "2024-01-26T17:53:13.236196",
     "status": "completed"
    },
    "tags": []
   },
   "outputs": [
    {
     "name": "stdout",
     "output_type": "stream",
     "text": [
      "[[-4.21240322  8.54119794 12.74220457]]\n"
     ]
    }
   ],
   "source": [
    "w = A_inv@b\n",
    "print(w.T)"
   ]
  },
  {
   "cell_type": "code",
   "execution_count": 15,
   "id": "6604b730",
   "metadata": {
    "execution": {
     "iopub.execute_input": "2024-01-26T17:53:13.284994Z",
     "iopub.status.busy": "2024-01-26T17:53:13.284236Z",
     "iopub.status.idle": "2024-01-26T17:53:13.290433Z",
     "shell.execute_reply": "2024-01-26T17:53:13.289435Z"
    },
    "papermill": {
     "duration": 0.022467,
     "end_time": "2024-01-26T17:53:13.292914",
     "exception": false,
     "start_time": "2024-01-26T17:53:13.270447",
     "status": "completed"
    },
    "tags": []
   },
   "outputs": [],
   "source": [
    "def predict(df):\n",
    "    lst = []\n",
    "    for i in range(len(df)):\n",
    "        lst.append(w.T @ np.array(df.iloc[i][:]) + c)\n",
    "    return lst"
   ]
  },
  {
   "cell_type": "code",
   "execution_count": 16,
   "id": "a687a783",
   "metadata": {
    "execution": {
     "iopub.execute_input": "2024-01-26T17:53:13.319426Z",
     "iopub.status.busy": "2024-01-26T17:53:13.318635Z",
     "iopub.status.idle": "2024-01-26T17:53:13.333303Z",
     "shell.execute_reply": "2024-01-26T17:53:13.332103Z"
    },
    "papermill": {
     "duration": 0.030529,
     "end_time": "2024-01-26T17:53:13.335625",
     "exception": false,
     "start_time": "2024-01-26T17:53:13.305096",
     "status": "completed"
    },
    "tags": []
   },
   "outputs": [
    {
     "data": {
      "text/html": [
       "<div>\n",
       "<style scoped>\n",
       "    .dataframe tbody tr th:only-of-type {\n",
       "        vertical-align: middle;\n",
       "    }\n",
       "\n",
       "    .dataframe tbody tr th {\n",
       "        vertical-align: top;\n",
       "    }\n",
       "\n",
       "    .dataframe thead th {\n",
       "        text-align: right;\n",
       "    }\n",
       "</style>\n",
       "<table border=\"1\" class=\"dataframe\">\n",
       "  <thead>\n",
       "    <tr style=\"text-align: right;\">\n",
       "      <th></th>\n",
       "      <th>x1</th>\n",
       "      <th>x2</th>\n",
       "      <th>x3</th>\n",
       "    </tr>\n",
       "  </thead>\n",
       "  <tbody>\n",
       "    <tr>\n",
       "      <th>0</th>\n",
       "      <td>0.1</td>\n",
       "      <td>0.311089</td>\n",
       "      <td>0.390541</td>\n",
       "    </tr>\n",
       "    <tr>\n",
       "      <th>1</th>\n",
       "      <td>0.2</td>\n",
       "      <td>0.639066</td>\n",
       "      <td>1.389918</td>\n",
       "    </tr>\n",
       "    <tr>\n",
       "      <th>2</th>\n",
       "      <td>0.3</td>\n",
       "      <td>0.840228</td>\n",
       "      <td>1.939903</td>\n",
       "    </tr>\n",
       "    <tr>\n",
       "      <th>3</th>\n",
       "      <td>0.4</td>\n",
       "      <td>1.299710</td>\n",
       "      <td>2.153009</td>\n",
       "    </tr>\n",
       "    <tr>\n",
       "      <th>4</th>\n",
       "      <td>0.5</td>\n",
       "      <td>0.941784</td>\n",
       "      <td>0.945136</td>\n",
       "    </tr>\n",
       "    <tr>\n",
       "      <th>...</th>\n",
       "      <td>...</td>\n",
       "      <td>...</td>\n",
       "      <td>...</td>\n",
       "    </tr>\n",
       "    <tr>\n",
       "      <th>95</th>\n",
       "      <td>9.6</td>\n",
       "      <td>10.336087</td>\n",
       "      <td>9.979673</td>\n",
       "    </tr>\n",
       "    <tr>\n",
       "      <th>96</th>\n",
       "      <td>9.7</td>\n",
       "      <td>9.928599</td>\n",
       "      <td>10.721891</td>\n",
       "    </tr>\n",
       "    <tr>\n",
       "      <th>97</th>\n",
       "      <td>9.8</td>\n",
       "      <td>10.109046</td>\n",
       "      <td>10.163445</td>\n",
       "    </tr>\n",
       "    <tr>\n",
       "      <th>98</th>\n",
       "      <td>9.9</td>\n",
       "      <td>9.954540</td>\n",
       "      <td>10.562039</td>\n",
       "    </tr>\n",
       "    <tr>\n",
       "      <th>99</th>\n",
       "      <td>10.0</td>\n",
       "      <td>10.469087</td>\n",
       "      <td>10.727984</td>\n",
       "    </tr>\n",
       "  </tbody>\n",
       "</table>\n",
       "<p>100 rows × 3 columns</p>\n",
       "</div>"
      ],
      "text/plain": [
       "      x1         x2         x3\n",
       "0    0.1   0.311089   0.390541\n",
       "1    0.2   0.639066   1.389918\n",
       "2    0.3   0.840228   1.939903\n",
       "3    0.4   1.299710   2.153009\n",
       "4    0.5   0.941784   0.945136\n",
       "..   ...        ...        ...\n",
       "95   9.6  10.336087   9.979673\n",
       "96   9.7   9.928599  10.721891\n",
       "97   9.8  10.109046  10.163445\n",
       "98   9.9   9.954540  10.562039\n",
       "99  10.0  10.469087  10.727984\n",
       "\n",
       "[100 rows x 3 columns]"
      ]
     },
     "execution_count": 16,
     "metadata": {},
     "output_type": "execute_result"
    }
   ],
   "source": [
    "df4"
   ]
  },
  {
   "cell_type": "code",
   "execution_count": 17,
   "id": "3334e881",
   "metadata": {
    "execution": {
     "iopub.execute_input": "2024-01-26T17:53:13.362025Z",
     "iopub.status.busy": "2024-01-26T17:53:13.361355Z",
     "iopub.status.idle": "2024-01-26T17:53:13.381067Z",
     "shell.execute_reply": "2024-01-26T17:53:13.380221Z"
    },
    "papermill": {
     "duration": 0.035811,
     "end_time": "2024-01-26T17:53:13.383587",
     "exception": false,
     "start_time": "2024-01-26T17:53:13.347776",
     "status": "completed"
    },
    "tags": []
   },
   "outputs": [],
   "source": [
    "df4['predicted'] = predict(df4)"
   ]
  },
  {
   "cell_type": "code",
   "execution_count": 18,
   "id": "f1a6ef1f",
   "metadata": {
    "execution": {
     "iopub.execute_input": "2024-01-26T17:53:13.410205Z",
     "iopub.status.busy": "2024-01-26T17:53:13.409829Z",
     "iopub.status.idle": "2024-01-26T17:53:13.415350Z",
     "shell.execute_reply": "2024-01-26T17:53:13.414252Z"
    },
    "papermill": {
     "duration": 0.021805,
     "end_time": "2024-01-26T17:53:13.417839",
     "exception": false,
     "start_time": "2024-01-26T17:53:13.396034",
     "status": "completed"
    },
    "tags": []
   },
   "outputs": [],
   "source": [
    "df4['y'] = y_array"
   ]
  },
  {
   "cell_type": "code",
   "execution_count": 19,
   "id": "a364b3bd",
   "metadata": {
    "execution": {
     "iopub.execute_input": "2024-01-26T17:53:13.444666Z",
     "iopub.status.busy": "2024-01-26T17:53:13.443845Z",
     "iopub.status.idle": "2024-01-26T17:53:13.465246Z",
     "shell.execute_reply": "2024-01-26T17:53:13.464141Z"
    },
    "papermill": {
     "duration": 0.037611,
     "end_time": "2024-01-26T17:53:13.467764",
     "exception": false,
     "start_time": "2024-01-26T17:53:13.430153",
     "status": "completed"
    },
    "tags": []
   },
   "outputs": [
    {
     "data": {
      "text/html": [
       "<div>\n",
       "<style scoped>\n",
       "    .dataframe tbody tr th:only-of-type {\n",
       "        vertical-align: middle;\n",
       "    }\n",
       "\n",
       "    .dataframe tbody tr th {\n",
       "        vertical-align: top;\n",
       "    }\n",
       "\n",
       "    .dataframe thead th {\n",
       "        text-align: right;\n",
       "    }\n",
       "</style>\n",
       "<table border=\"1\" class=\"dataframe\">\n",
       "  <thead>\n",
       "    <tr style=\"text-align: right;\">\n",
       "      <th></th>\n",
       "      <th>x1</th>\n",
       "      <th>x2</th>\n",
       "      <th>x3</th>\n",
       "      <th>predicted</th>\n",
       "      <th>y</th>\n",
       "    </tr>\n",
       "  </thead>\n",
       "  <tbody>\n",
       "    <tr>\n",
       "      <th>0</th>\n",
       "      <td>0.1</td>\n",
       "      <td>0.311089</td>\n",
       "      <td>0.390541</td>\n",
       "      <td>[7.412189896215797]</td>\n",
       "      <td>14.705876</td>\n",
       "    </tr>\n",
       "    <tr>\n",
       "      <th>1</th>\n",
       "      <td>0.2</td>\n",
       "      <td>0.639066</td>\n",
       "      <td>1.389918</td>\n",
       "      <td>[22.52653494064627]</td>\n",
       "      <td>26.585100</td>\n",
       "    </tr>\n",
       "    <tr>\n",
       "      <th>2</th>\n",
       "      <td>0.3</td>\n",
       "      <td>0.840228</td>\n",
       "      <td>1.939903</td>\n",
       "      <td>[30.83146967374577]</td>\n",
       "      <td>36.791509</td>\n",
       "    </tr>\n",
       "    <tr>\n",
       "      <th>3</th>\n",
       "      <td>0.4</td>\n",
       "      <td>1.299710</td>\n",
       "      <td>2.153009</td>\n",
       "      <td>[37.05020832980665]</td>\n",
       "      <td>34.090806</td>\n",
       "    </tr>\n",
       "    <tr>\n",
       "      <th>4</th>\n",
       "      <td>0.5</td>\n",
       "      <td>0.941784</td>\n",
       "      <td>0.945136</td>\n",
       "      <td>[18.180877686862235]</td>\n",
       "      <td>31.118089</td>\n",
       "    </tr>\n",
       "    <tr>\n",
       "      <th>...</th>\n",
       "      <td>...</td>\n",
       "      <td>...</td>\n",
       "      <td>...</td>\n",
       "      <td>...</td>\n",
       "      <td>...</td>\n",
       "    </tr>\n",
       "    <tr>\n",
       "      <th>95</th>\n",
       "      <td>9.6</td>\n",
       "      <td>10.336087</td>\n",
       "      <td>9.979673</td>\n",
       "      <td>[175.2065285467928]</td>\n",
       "      <td>183.744594</td>\n",
       "    </tr>\n",
       "    <tr>\n",
       "      <th>96</th>\n",
       "      <td>9.7</td>\n",
       "      <td>9.928599</td>\n",
       "      <td>10.721891</td>\n",
       "      <td>[180.7623546554319]</td>\n",
       "      <td>175.907274</td>\n",
       "    </tr>\n",
       "    <tr>\n",
       "      <th>97</th>\n",
       "      <td>9.8</td>\n",
       "      <td>10.109046</td>\n",
       "      <td>10.163445</td>\n",
       "      <td>[174.76649965170452]</td>\n",
       "      <td>183.992845</td>\n",
       "    </tr>\n",
       "    <tr>\n",
       "      <th>98</th>\n",
       "      <td>9.9</td>\n",
       "      <td>9.954540</td>\n",
       "      <td>10.562039</td>\n",
       "      <td>[178.10456140432942]</td>\n",
       "      <td>173.920425</td>\n",
       "    </tr>\n",
       "    <tr>\n",
       "      <th>99</th>\n",
       "      <td>10.0</td>\n",
       "      <td>10.469087</td>\n",
       "      <td>10.727984</td>\n",
       "      <td>[184.19267595968137]</td>\n",
       "      <td>179.018755</td>\n",
       "    </tr>\n",
       "  </tbody>\n",
       "</table>\n",
       "<p>100 rows × 5 columns</p>\n",
       "</div>"
      ],
      "text/plain": [
       "      x1         x2         x3             predicted           y\n",
       "0    0.1   0.311089   0.390541   [7.412189896215797]   14.705876\n",
       "1    0.2   0.639066   1.389918   [22.52653494064627]   26.585100\n",
       "2    0.3   0.840228   1.939903   [30.83146967374577]   36.791509\n",
       "3    0.4   1.299710   2.153009   [37.05020832980665]   34.090806\n",
       "4    0.5   0.941784   0.945136  [18.180877686862235]   31.118089\n",
       "..   ...        ...        ...                   ...         ...\n",
       "95   9.6  10.336087   9.979673   [175.2065285467928]  183.744594\n",
       "96   9.7   9.928599  10.721891   [180.7623546554319]  175.907274\n",
       "97   9.8  10.109046  10.163445  [174.76649965170452]  183.992845\n",
       "98   9.9   9.954540  10.562039  [178.10456140432942]  173.920425\n",
       "99  10.0  10.469087  10.727984  [184.19267595968137]  179.018755\n",
       "\n",
       "[100 rows x 5 columns]"
      ]
     },
     "execution_count": 19,
     "metadata": {},
     "output_type": "execute_result"
    }
   ],
   "source": [
    "df4"
   ]
  },
  {
   "cell_type": "code",
   "execution_count": 20,
   "id": "10105278",
   "metadata": {
    "execution": {
     "iopub.execute_input": "2024-01-26T17:53:13.495114Z",
     "iopub.status.busy": "2024-01-26T17:53:13.494206Z",
     "iopub.status.idle": "2024-01-26T17:53:13.499967Z",
     "shell.execute_reply": "2024-01-26T17:53:13.499140Z"
    },
    "papermill": {
     "duration": 0.021998,
     "end_time": "2024-01-26T17:53:13.502167",
     "exception": false,
     "start_time": "2024-01-26T17:53:13.480169",
     "status": "completed"
    },
    "tags": []
   },
   "outputs": [],
   "source": [
    "def R2(df):\n",
    "  return 1 - Rss(df) / Tss(df)"
   ]
  },
  {
   "cell_type": "code",
   "execution_count": 21,
   "id": "71365692",
   "metadata": {
    "execution": {
     "iopub.execute_input": "2024-01-26T17:53:13.529196Z",
     "iopub.status.busy": "2024-01-26T17:53:13.528522Z",
     "iopub.status.idle": "2024-01-26T17:53:13.533849Z",
     "shell.execute_reply": "2024-01-26T17:53:13.533097Z"
    },
    "papermill": {
     "duration": 0.021406,
     "end_time": "2024-01-26T17:53:13.535955",
     "exception": false,
     "start_time": "2024-01-26T17:53:13.514549",
     "status": "completed"
    },
    "tags": []
   },
   "outputs": [],
   "source": [
    "def Rss(df):\n",
    "  return np.sum((df['y'] - df['predicted']) ** 2)"
   ]
  },
  {
   "cell_type": "code",
   "execution_count": 22,
   "id": "29760ba3",
   "metadata": {
    "execution": {
     "iopub.execute_input": "2024-01-26T17:53:13.565584Z",
     "iopub.status.busy": "2024-01-26T17:53:13.564966Z",
     "iopub.status.idle": "2024-01-26T17:53:13.570100Z",
     "shell.execute_reply": "2024-01-26T17:53:13.569308Z"
    },
    "papermill": {
     "duration": 0.023761,
     "end_time": "2024-01-26T17:53:13.572248",
     "exception": false,
     "start_time": "2024-01-26T17:53:13.548487",
     "status": "completed"
    },
    "tags": []
   },
   "outputs": [],
   "source": [
    "def Tss(df):\n",
    "  return np.sum((df['y'] - np.mean(df['predicted']))** 2)"
   ]
  },
  {
   "cell_type": "code",
   "execution_count": 23,
   "id": "f2948564",
   "metadata": {
    "execution": {
     "iopub.execute_input": "2024-01-26T17:53:13.599563Z",
     "iopub.status.busy": "2024-01-26T17:53:13.598490Z",
     "iopub.status.idle": "2024-01-26T17:53:13.609537Z",
     "shell.execute_reply": "2024-01-26T17:53:13.608442Z"
    },
    "papermill": {
     "duration": 0.027768,
     "end_time": "2024-01-26T17:53:13.612490",
     "exception": false,
     "start_time": "2024-01-26T17:53:13.584722",
     "status": "completed"
    },
    "tags": []
   },
   "outputs": [
    {
     "data": {
      "text/plain": [
       "array([0.97750659])"
      ]
     },
     "execution_count": 23,
     "metadata": {},
     "output_type": "execute_result"
    }
   ],
   "source": [
    "R2(df4)"
   ]
  },
  {
   "cell_type": "code",
   "execution_count": 24,
   "id": "26d714aa",
   "metadata": {
    "execution": {
     "iopub.execute_input": "2024-01-26T17:53:13.639942Z",
     "iopub.status.busy": "2024-01-26T17:53:13.639500Z",
     "iopub.status.idle": "2024-01-26T17:53:13.660837Z",
     "shell.execute_reply": "2024-01-26T17:53:13.659840Z"
    },
    "papermill": {
     "duration": 0.038549,
     "end_time": "2024-01-26T17:53:13.663870",
     "exception": false,
     "start_time": "2024-01-26T17:53:13.625321",
     "status": "completed"
    },
    "tags": []
   },
   "outputs": [
    {
     "data": {
      "text/html": [
       "<div>\n",
       "<style scoped>\n",
       "    .dataframe tbody tr th:only-of-type {\n",
       "        vertical-align: middle;\n",
       "    }\n",
       "\n",
       "    .dataframe tbody tr th {\n",
       "        vertical-align: top;\n",
       "    }\n",
       "\n",
       "    .dataframe thead th {\n",
       "        text-align: right;\n",
       "    }\n",
       "</style>\n",
       "<table border=\"1\" class=\"dataframe\">\n",
       "  <thead>\n",
       "    <tr style=\"text-align: right;\">\n",
       "      <th></th>\n",
       "      <th>x1</th>\n",
       "      <th>x2</th>\n",
       "      <th>x3</th>\n",
       "      <th>predicted</th>\n",
       "      <th>y</th>\n",
       "    </tr>\n",
       "  </thead>\n",
       "  <tbody>\n",
       "    <tr>\n",
       "      <th>0</th>\n",
       "      <td>0.1</td>\n",
       "      <td>0.311089</td>\n",
       "      <td>0.390541</td>\n",
       "      <td>[7.412189896215797]</td>\n",
       "      <td>14.705876</td>\n",
       "    </tr>\n",
       "    <tr>\n",
       "      <th>1</th>\n",
       "      <td>0.2</td>\n",
       "      <td>0.639066</td>\n",
       "      <td>1.389918</td>\n",
       "      <td>[22.52653494064627]</td>\n",
       "      <td>26.585100</td>\n",
       "    </tr>\n",
       "    <tr>\n",
       "      <th>2</th>\n",
       "      <td>0.3</td>\n",
       "      <td>0.840228</td>\n",
       "      <td>1.939903</td>\n",
       "      <td>[30.83146967374577]</td>\n",
       "      <td>36.791509</td>\n",
       "    </tr>\n",
       "    <tr>\n",
       "      <th>3</th>\n",
       "      <td>0.4</td>\n",
       "      <td>1.299710</td>\n",
       "      <td>2.153009</td>\n",
       "      <td>[37.05020832980665]</td>\n",
       "      <td>34.090806</td>\n",
       "    </tr>\n",
       "    <tr>\n",
       "      <th>4</th>\n",
       "      <td>0.5</td>\n",
       "      <td>0.941784</td>\n",
       "      <td>0.945136</td>\n",
       "      <td>[18.180877686862235]</td>\n",
       "      <td>31.118089</td>\n",
       "    </tr>\n",
       "    <tr>\n",
       "      <th>...</th>\n",
       "      <td>...</td>\n",
       "      <td>...</td>\n",
       "      <td>...</td>\n",
       "      <td>...</td>\n",
       "      <td>...</td>\n",
       "    </tr>\n",
       "    <tr>\n",
       "      <th>95</th>\n",
       "      <td>9.6</td>\n",
       "      <td>10.336087</td>\n",
       "      <td>9.979673</td>\n",
       "      <td>[175.2065285467928]</td>\n",
       "      <td>183.744594</td>\n",
       "    </tr>\n",
       "    <tr>\n",
       "      <th>96</th>\n",
       "      <td>9.7</td>\n",
       "      <td>9.928599</td>\n",
       "      <td>10.721891</td>\n",
       "      <td>[180.7623546554319]</td>\n",
       "      <td>175.907274</td>\n",
       "    </tr>\n",
       "    <tr>\n",
       "      <th>97</th>\n",
       "      <td>9.8</td>\n",
       "      <td>10.109046</td>\n",
       "      <td>10.163445</td>\n",
       "      <td>[174.76649965170452]</td>\n",
       "      <td>183.992845</td>\n",
       "    </tr>\n",
       "    <tr>\n",
       "      <th>98</th>\n",
       "      <td>9.9</td>\n",
       "      <td>9.954540</td>\n",
       "      <td>10.562039</td>\n",
       "      <td>[178.10456140432942]</td>\n",
       "      <td>173.920425</td>\n",
       "    </tr>\n",
       "    <tr>\n",
       "      <th>99</th>\n",
       "      <td>10.0</td>\n",
       "      <td>10.469087</td>\n",
       "      <td>10.727984</td>\n",
       "      <td>[184.19267595968137]</td>\n",
       "      <td>179.018755</td>\n",
       "    </tr>\n",
       "  </tbody>\n",
       "</table>\n",
       "<p>100 rows × 5 columns</p>\n",
       "</div>"
      ],
      "text/plain": [
       "      x1         x2         x3             predicted           y\n",
       "0    0.1   0.311089   0.390541   [7.412189896215797]   14.705876\n",
       "1    0.2   0.639066   1.389918   [22.52653494064627]   26.585100\n",
       "2    0.3   0.840228   1.939903   [30.83146967374577]   36.791509\n",
       "3    0.4   1.299710   2.153009   [37.05020832980665]   34.090806\n",
       "4    0.5   0.941784   0.945136  [18.180877686862235]   31.118089\n",
       "..   ...        ...        ...                   ...         ...\n",
       "95   9.6  10.336087   9.979673   [175.2065285467928]  183.744594\n",
       "96   9.7   9.928599  10.721891   [180.7623546554319]  175.907274\n",
       "97   9.8  10.109046  10.163445  [174.76649965170452]  183.992845\n",
       "98   9.9   9.954540  10.562039  [178.10456140432942]  173.920425\n",
       "99  10.0  10.469087  10.727984  [184.19267595968137]  179.018755\n",
       "\n",
       "[100 rows x 5 columns]"
      ]
     },
     "execution_count": 24,
     "metadata": {},
     "output_type": "execute_result"
    }
   ],
   "source": [
    "df4"
   ]
  },
  {
   "cell_type": "code",
   "execution_count": 25,
   "id": "6b2c8a13",
   "metadata": {
    "execution": {
     "iopub.execute_input": "2024-01-26T17:53:13.692293Z",
     "iopub.status.busy": "2024-01-26T17:53:13.691273Z",
     "iopub.status.idle": "2024-01-26T17:53:13.696195Z",
     "shell.execute_reply": "2024-01-26T17:53:13.695231Z"
    },
    "papermill": {
     "duration": 0.021456,
     "end_time": "2024-01-26T17:53:13.698392",
     "exception": false,
     "start_time": "2024-01-26T17:53:13.676936",
     "status": "completed"
    },
    "tags": []
   },
   "outputs": [],
   "source": [
    "y = df4['y']"
   ]
  },
  {
   "cell_type": "code",
   "execution_count": 26,
   "id": "0ab3a3ca",
   "metadata": {
    "execution": {
     "iopub.execute_input": "2024-01-26T17:53:13.726616Z",
     "iopub.status.busy": "2024-01-26T17:53:13.725900Z",
     "iopub.status.idle": "2024-01-26T17:53:13.731691Z",
     "shell.execute_reply": "2024-01-26T17:53:13.730939Z"
    },
    "papermill": {
     "duration": 0.022569,
     "end_time": "2024-01-26T17:53:13.733924",
     "exception": false,
     "start_time": "2024-01-26T17:53:13.711355",
     "status": "completed"
    },
    "tags": []
   },
   "outputs": [],
   "source": [
    "df4 = df4.drop(columns='y')\n",
    "df4 = df4.drop(columns='predicted')"
   ]
  },
  {
   "cell_type": "code",
   "execution_count": 27,
   "id": "f94799a3",
   "metadata": {
    "execution": {
     "iopub.execute_input": "2024-01-26T17:53:13.825502Z",
     "iopub.status.busy": "2024-01-26T17:53:13.824801Z",
     "iopub.status.idle": "2024-01-26T17:53:13.837683Z",
     "shell.execute_reply": "2024-01-26T17:53:13.836913Z"
    },
    "papermill": {
     "duration": 0.092749,
     "end_time": "2024-01-26T17:53:13.839726",
     "exception": false,
     "start_time": "2024-01-26T17:53:13.746977",
     "status": "completed"
    },
    "tags": []
   },
   "outputs": [
    {
     "data": {
      "text/html": [
       "<div>\n",
       "<style scoped>\n",
       "    .dataframe tbody tr th:only-of-type {\n",
       "        vertical-align: middle;\n",
       "    }\n",
       "\n",
       "    .dataframe tbody tr th {\n",
       "        vertical-align: top;\n",
       "    }\n",
       "\n",
       "    .dataframe thead th {\n",
       "        text-align: right;\n",
       "    }\n",
       "</style>\n",
       "<table border=\"1\" class=\"dataframe\">\n",
       "  <thead>\n",
       "    <tr style=\"text-align: right;\">\n",
       "      <th></th>\n",
       "      <th>x1</th>\n",
       "      <th>x2</th>\n",
       "      <th>x3</th>\n",
       "    </tr>\n",
       "  </thead>\n",
       "  <tbody>\n",
       "    <tr>\n",
       "      <th>0</th>\n",
       "      <td>0.1</td>\n",
       "      <td>0.311089</td>\n",
       "      <td>0.390541</td>\n",
       "    </tr>\n",
       "    <tr>\n",
       "      <th>1</th>\n",
       "      <td>0.2</td>\n",
       "      <td>0.639066</td>\n",
       "      <td>1.389918</td>\n",
       "    </tr>\n",
       "    <tr>\n",
       "      <th>2</th>\n",
       "      <td>0.3</td>\n",
       "      <td>0.840228</td>\n",
       "      <td>1.939903</td>\n",
       "    </tr>\n",
       "    <tr>\n",
       "      <th>3</th>\n",
       "      <td>0.4</td>\n",
       "      <td>1.299710</td>\n",
       "      <td>2.153009</td>\n",
       "    </tr>\n",
       "    <tr>\n",
       "      <th>4</th>\n",
       "      <td>0.5</td>\n",
       "      <td>0.941784</td>\n",
       "      <td>0.945136</td>\n",
       "    </tr>\n",
       "    <tr>\n",
       "      <th>...</th>\n",
       "      <td>...</td>\n",
       "      <td>...</td>\n",
       "      <td>...</td>\n",
       "    </tr>\n",
       "    <tr>\n",
       "      <th>95</th>\n",
       "      <td>9.6</td>\n",
       "      <td>10.336087</td>\n",
       "      <td>9.979673</td>\n",
       "    </tr>\n",
       "    <tr>\n",
       "      <th>96</th>\n",
       "      <td>9.7</td>\n",
       "      <td>9.928599</td>\n",
       "      <td>10.721891</td>\n",
       "    </tr>\n",
       "    <tr>\n",
       "      <th>97</th>\n",
       "      <td>9.8</td>\n",
       "      <td>10.109046</td>\n",
       "      <td>10.163445</td>\n",
       "    </tr>\n",
       "    <tr>\n",
       "      <th>98</th>\n",
       "      <td>9.9</td>\n",
       "      <td>9.954540</td>\n",
       "      <td>10.562039</td>\n",
       "    </tr>\n",
       "    <tr>\n",
       "      <th>99</th>\n",
       "      <td>10.0</td>\n",
       "      <td>10.469087</td>\n",
       "      <td>10.727984</td>\n",
       "    </tr>\n",
       "  </tbody>\n",
       "</table>\n",
       "<p>100 rows × 3 columns</p>\n",
       "</div>"
      ],
      "text/plain": [
       "      x1         x2         x3\n",
       "0    0.1   0.311089   0.390541\n",
       "1    0.2   0.639066   1.389918\n",
       "2    0.3   0.840228   1.939903\n",
       "3    0.4   1.299710   2.153009\n",
       "4    0.5   0.941784   0.945136\n",
       "..   ...        ...        ...\n",
       "95   9.6  10.336087   9.979673\n",
       "96   9.7   9.928599  10.721891\n",
       "97   9.8  10.109046  10.163445\n",
       "98   9.9   9.954540  10.562039\n",
       "99  10.0  10.469087  10.727984\n",
       "\n",
       "[100 rows x 3 columns]"
      ]
     },
     "execution_count": 27,
     "metadata": {},
     "output_type": "execute_result"
    }
   ],
   "source": [
    "df4"
   ]
  },
  {
   "cell_type": "markdown",
   "id": "16f5a28d",
   "metadata": {
    "papermill": {
     "duration": 0.013071,
     "end_time": "2024-01-26T17:53:13.866204",
     "exception": false,
     "start_time": "2024-01-26T17:53:13.853133",
     "status": "completed"
    },
    "tags": []
   },
   "source": [
    "***Verify using Scikit Learn***"
   ]
  },
  {
   "cell_type": "code",
   "execution_count": 28,
   "id": "daa096ed",
   "metadata": {
    "execution": {
     "iopub.execute_input": "2024-01-26T17:53:13.894913Z",
     "iopub.status.busy": "2024-01-26T17:53:13.894453Z",
     "iopub.status.idle": "2024-01-26T17:53:15.476679Z",
     "shell.execute_reply": "2024-01-26T17:53:15.474892Z"
    },
    "papermill": {
     "duration": 1.600133,
     "end_time": "2024-01-26T17:53:15.479693",
     "exception": false,
     "start_time": "2024-01-26T17:53:13.879560",
     "status": "completed"
    },
    "tags": []
   },
   "outputs": [],
   "source": [
    "from sklearn.linear_model import LinearRegression\n",
    "from sklearn.metrics import r2_score\n",
    "lr = LinearRegression()"
   ]
  },
  {
   "cell_type": "code",
   "execution_count": 29,
   "id": "30e58aa7",
   "metadata": {
    "execution": {
     "iopub.execute_input": "2024-01-26T17:53:15.514710Z",
     "iopub.status.busy": "2024-01-26T17:53:15.514182Z",
     "iopub.status.idle": "2024-01-26T17:53:15.549828Z",
     "shell.execute_reply": "2024-01-26T17:53:15.548700Z"
    },
    "papermill": {
     "duration": 0.056622,
     "end_time": "2024-01-26T17:53:15.552515",
     "exception": false,
     "start_time": "2024-01-26T17:53:15.495893",
     "status": "completed"
    },
    "tags": []
   },
   "outputs": [
    {
     "data": {
      "text/html": [
       "<style>#sk-container-id-1 {color: black;background-color: white;}#sk-container-id-1 pre{padding: 0;}#sk-container-id-1 div.sk-toggleable {background-color: white;}#sk-container-id-1 label.sk-toggleable__label {cursor: pointer;display: block;width: 100%;margin-bottom: 0;padding: 0.3em;box-sizing: border-box;text-align: center;}#sk-container-id-1 label.sk-toggleable__label-arrow:before {content: \"▸\";float: left;margin-right: 0.25em;color: #696969;}#sk-container-id-1 label.sk-toggleable__label-arrow:hover:before {color: black;}#sk-container-id-1 div.sk-estimator:hover label.sk-toggleable__label-arrow:before {color: black;}#sk-container-id-1 div.sk-toggleable__content {max-height: 0;max-width: 0;overflow: hidden;text-align: left;background-color: #f0f8ff;}#sk-container-id-1 div.sk-toggleable__content pre {margin: 0.2em;color: black;border-radius: 0.25em;background-color: #f0f8ff;}#sk-container-id-1 input.sk-toggleable__control:checked~div.sk-toggleable__content {max-height: 200px;max-width: 100%;overflow: auto;}#sk-container-id-1 input.sk-toggleable__control:checked~label.sk-toggleable__label-arrow:before {content: \"▾\";}#sk-container-id-1 div.sk-estimator input.sk-toggleable__control:checked~label.sk-toggleable__label {background-color: #d4ebff;}#sk-container-id-1 div.sk-label input.sk-toggleable__control:checked~label.sk-toggleable__label {background-color: #d4ebff;}#sk-container-id-1 input.sk-hidden--visually {border: 0;clip: rect(1px 1px 1px 1px);clip: rect(1px, 1px, 1px, 1px);height: 1px;margin: -1px;overflow: hidden;padding: 0;position: absolute;width: 1px;}#sk-container-id-1 div.sk-estimator {font-family: monospace;background-color: #f0f8ff;border: 1px dotted black;border-radius: 0.25em;box-sizing: border-box;margin-bottom: 0.5em;}#sk-container-id-1 div.sk-estimator:hover {background-color: #d4ebff;}#sk-container-id-1 div.sk-parallel-item::after {content: \"\";width: 100%;border-bottom: 1px solid gray;flex-grow: 1;}#sk-container-id-1 div.sk-label:hover label.sk-toggleable__label {background-color: #d4ebff;}#sk-container-id-1 div.sk-serial::before {content: \"\";position: absolute;border-left: 1px solid gray;box-sizing: border-box;top: 0;bottom: 0;left: 50%;z-index: 0;}#sk-container-id-1 div.sk-serial {display: flex;flex-direction: column;align-items: center;background-color: white;padding-right: 0.2em;padding-left: 0.2em;position: relative;}#sk-container-id-1 div.sk-item {position: relative;z-index: 1;}#sk-container-id-1 div.sk-parallel {display: flex;align-items: stretch;justify-content: center;background-color: white;position: relative;}#sk-container-id-1 div.sk-item::before, #sk-container-id-1 div.sk-parallel-item::before {content: \"\";position: absolute;border-left: 1px solid gray;box-sizing: border-box;top: 0;bottom: 0;left: 50%;z-index: -1;}#sk-container-id-1 div.sk-parallel-item {display: flex;flex-direction: column;z-index: 1;position: relative;background-color: white;}#sk-container-id-1 div.sk-parallel-item:first-child::after {align-self: flex-end;width: 50%;}#sk-container-id-1 div.sk-parallel-item:last-child::after {align-self: flex-start;width: 50%;}#sk-container-id-1 div.sk-parallel-item:only-child::after {width: 0;}#sk-container-id-1 div.sk-dashed-wrapped {border: 1px dashed gray;margin: 0 0.4em 0.5em 0.4em;box-sizing: border-box;padding-bottom: 0.4em;background-color: white;}#sk-container-id-1 div.sk-label label {font-family: monospace;font-weight: bold;display: inline-block;line-height: 1.2em;}#sk-container-id-1 div.sk-label-container {text-align: center;}#sk-container-id-1 div.sk-container {/* jupyter's `normalize.less` sets `[hidden] { display: none; }` but bootstrap.min.css set `[hidden] { display: none !important; }` so we also need the `!important` here to be able to override the default hidden behavior on the sphinx rendered scikit-learn.org. See: https://github.com/scikit-learn/scikit-learn/issues/21755 */display: inline-block !important;position: relative;}#sk-container-id-1 div.sk-text-repr-fallback {display: none;}</style><div id=\"sk-container-id-1\" class=\"sk-top-container\"><div class=\"sk-text-repr-fallback\"><pre>LinearRegression()</pre><b>In a Jupyter environment, please rerun this cell to show the HTML representation or trust the notebook. <br />On GitHub, the HTML representation is unable to render, please try loading this page with nbviewer.org.</b></div><div class=\"sk-container\" hidden><div class=\"sk-item\"><div class=\"sk-estimator sk-toggleable\"><input class=\"sk-toggleable__control sk-hidden--visually\" id=\"sk-estimator-id-1\" type=\"checkbox\" checked><label for=\"sk-estimator-id-1\" class=\"sk-toggleable__label sk-toggleable__label-arrow\">LinearRegression</label><div class=\"sk-toggleable__content\"><pre>LinearRegression()</pre></div></div></div></div></div>"
      ],
      "text/plain": [
       "LinearRegression()"
      ]
     },
     "execution_count": 29,
     "metadata": {},
     "output_type": "execute_result"
    }
   ],
   "source": [
    "X = df4[['x1', 'x2', 'x3']]\n",
    "lr.fit(X,y)"
   ]
  },
  {
   "cell_type": "code",
   "execution_count": 30,
   "id": "2d01d142",
   "metadata": {
    "execution": {
     "iopub.execute_input": "2024-01-26T17:53:15.584219Z",
     "iopub.status.busy": "2024-01-26T17:53:15.583453Z",
     "iopub.status.idle": "2024-01-26T17:53:15.590627Z",
     "shell.execute_reply": "2024-01-26T17:53:15.589723Z"
    },
    "papermill": {
     "duration": 0.026645,
     "end_time": "2024-01-26T17:53:15.592982",
     "exception": false,
     "start_time": "2024-01-26T17:53:15.566337",
     "status": "completed"
    },
    "tags": []
   },
   "outputs": [],
   "source": [
    "y_predict = lr.predict(X)"
   ]
  },
  {
   "cell_type": "code",
   "execution_count": 31,
   "id": "f6207e39",
   "metadata": {
    "execution": {
     "iopub.execute_input": "2024-01-26T17:53:15.623395Z",
     "iopub.status.busy": "2024-01-26T17:53:15.622527Z",
     "iopub.status.idle": "2024-01-26T17:53:15.630105Z",
     "shell.execute_reply": "2024-01-26T17:53:15.628702Z"
    },
    "papermill": {
     "duration": 0.025127,
     "end_time": "2024-01-26T17:53:15.632334",
     "exception": false,
     "start_time": "2024-01-26T17:53:15.607207",
     "status": "completed"
    },
    "tags": []
   },
   "outputs": [
    {
     "name": "stdout",
     "output_type": "stream",
     "text": [
      "0.9841749058943147\n"
     ]
    }
   ],
   "source": [
    "r_squared = r2_score(y, y_predict)\n",
    "print(r_squared)"
   ]
  }
 ],
 "metadata": {
  "kaggle": {
   "accelerator": "none",
   "dataSources": [
    {
     "datasetId": 4032642,
     "sourceId": 7013783,
     "sourceType": "datasetVersion"
    },
    {
     "datasetId": 4259875,
     "sourceId": 7337523,
     "sourceType": "datasetVersion"
    },
    {
     "datasetId": 4332062,
     "sourceId": 7442716,
     "sourceType": "datasetVersion"
    },
    {
     "datasetId": 4332476,
     "sourceId": 7443329,
     "sourceType": "datasetVersion"
    }
   ],
   "dockerImageVersionId": 30635,
   "isGpuEnabled": false,
   "isInternetEnabled": true,
   "language": "python",
   "sourceType": "notebook"
  },
  "kernelspec": {
   "display_name": "Python 3",
   "language": "python",
   "name": "python3"
  },
  "language_info": {
   "codemirror_mode": {
    "name": "ipython",
    "version": 3
   },
   "file_extension": ".py",
   "mimetype": "text/x-python",
   "name": "python",
   "nbconvert_exporter": "python",
   "pygments_lexer": "ipython3",
   "version": "3.10.12"
  },
  "papermill": {
   "default_parameters": {},
   "duration": 9.073861,
   "end_time": "2024-01-26T17:53:16.267392",
   "environment_variables": {},
   "exception": null,
   "input_path": "__notebook__.ipynb",
   "output_path": "__notebook__.ipynb",
   "parameters": {},
   "start_time": "2024-01-26T17:53:07.193531",
   "version": "2.4.0"
  }
 },
 "nbformat": 4,
 "nbformat_minor": 5
}
