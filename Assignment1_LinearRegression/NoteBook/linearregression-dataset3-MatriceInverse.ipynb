{
 "cells": [
  {
   "cell_type": "code",
   "execution_count": 1,
   "id": "8c9cf7d5",
   "metadata": {
    "_cell_guid": "b1076dfc-b9ad-4769-8c92-a6c4dae69d19",
    "_uuid": "8f2839f25d086af736a60e9eeb907d3b93b6e0e5",
    "execution": {
     "iopub.execute_input": "2024-01-26T18:10:37.737956Z",
     "iopub.status.busy": "2024-01-26T18:10:37.737512Z",
     "iopub.status.idle": "2024-01-26T18:10:38.187732Z",
     "shell.execute_reply": "2024-01-26T18:10:38.186600Z"
    },
    "papermill": {
     "duration": 0.458531,
     "end_time": "2024-01-26T18:10:38.190653",
     "exception": false,
     "start_time": "2024-01-26T18:10:37.732122",
     "status": "completed"
    },
    "tags": []
   },
   "outputs": [],
   "source": [
    "import pandas as pd\n",
    "import numpy as np\n",
    "import matplotlib.pyplot as plt\n",
    "from math import *"
   ]
  },
  {
   "cell_type": "markdown",
   "id": "4ad6dbec",
   "metadata": {
    "papermill": {
     "duration": 0.002837,
     "end_time": "2024-01-26T18:10:38.196802",
     "exception": false,
     "start_time": "2024-01-26T18:10:38.193965",
     "status": "completed"
    },
    "tags": []
   },
   "source": [
    "**Predicting for DataSet3**"
   ]
  },
  {
   "cell_type": "code",
   "execution_count": 2,
   "id": "ffbfbf45",
   "metadata": {
    "execution": {
     "iopub.execute_input": "2024-01-26T18:10:38.204438Z",
     "iopub.status.busy": "2024-01-26T18:10:38.203844Z",
     "iopub.status.idle": "2024-01-26T18:10:38.237984Z",
     "shell.execute_reply": "2024-01-26T18:10:38.236951Z"
    },
    "papermill": {
     "duration": 0.041434,
     "end_time": "2024-01-26T18:10:38.241046",
     "exception": false,
     "start_time": "2024-01-26T18:10:38.199612",
     "status": "completed"
    },
    "tags": []
   },
   "outputs": [],
   "source": [
    "df = pd.read_csv('/kaggle/input/dataset2/Data3.csv')"
   ]
  },
  {
   "cell_type": "code",
   "execution_count": 3,
   "id": "61f03d40",
   "metadata": {
    "execution": {
     "iopub.execute_input": "2024-01-26T18:10:38.248916Z",
     "iopub.status.busy": "2024-01-26T18:10:38.248483Z",
     "iopub.status.idle": "2024-01-26T18:10:38.279093Z",
     "shell.execute_reply": "2024-01-26T18:10:38.277935Z"
    },
    "papermill": {
     "duration": 0.037928,
     "end_time": "2024-01-26T18:10:38.282078",
     "exception": false,
     "start_time": "2024-01-26T18:10:38.244150",
     "status": "completed"
    },
    "tags": []
   },
   "outputs": [
    {
     "data": {
      "text/html": [
       "<div>\n",
       "<style scoped>\n",
       "    .dataframe tbody tr th:only-of-type {\n",
       "        vertical-align: middle;\n",
       "    }\n",
       "\n",
       "    .dataframe tbody tr th {\n",
       "        vertical-align: top;\n",
       "    }\n",
       "\n",
       "    .dataframe thead th {\n",
       "        text-align: right;\n",
       "    }\n",
       "</style>\n",
       "<table border=\"1\" class=\"dataframe\">\n",
       "  <thead>\n",
       "    <tr style=\"text-align: right;\">\n",
       "      <th></th>\n",
       "      <th>x</th>\n",
       "      <th>z</th>\n",
       "    </tr>\n",
       "  </thead>\n",
       "  <tbody>\n",
       "    <tr>\n",
       "      <th>0</th>\n",
       "      <td>0.1</td>\n",
       "      <td>1.159563</td>\n",
       "    </tr>\n",
       "    <tr>\n",
       "      <th>1</th>\n",
       "      <td>0.2</td>\n",
       "      <td>1.002381</td>\n",
       "    </tr>\n",
       "    <tr>\n",
       "      <th>2</th>\n",
       "      <td>0.3</td>\n",
       "      <td>0.935920</td>\n",
       "    </tr>\n",
       "    <tr>\n",
       "      <th>3</th>\n",
       "      <td>0.4</td>\n",
       "      <td>0.016261</td>\n",
       "    </tr>\n",
       "    <tr>\n",
       "      <th>4</th>\n",
       "      <td>0.5</td>\n",
       "      <td>1.172652</td>\n",
       "    </tr>\n",
       "    <tr>\n",
       "      <th>...</th>\n",
       "      <td>...</td>\n",
       "      <td>...</td>\n",
       "    </tr>\n",
       "    <tr>\n",
       "      <th>95</th>\n",
       "      <td>9.6</td>\n",
       "      <td>2.267108</td>\n",
       "    </tr>\n",
       "    <tr>\n",
       "      <th>96</th>\n",
       "      <td>9.7</td>\n",
       "      <td>2.351145</td>\n",
       "    </tr>\n",
       "    <tr>\n",
       "      <th>97</th>\n",
       "      <td>9.8</td>\n",
       "      <td>1.957880</td>\n",
       "    </tr>\n",
       "    <tr>\n",
       "      <th>98</th>\n",
       "      <td>9.9</td>\n",
       "      <td>1.426106</td>\n",
       "    </tr>\n",
       "    <tr>\n",
       "      <th>99</th>\n",
       "      <td>10.0</td>\n",
       "      <td>2.250976</td>\n",
       "    </tr>\n",
       "  </tbody>\n",
       "</table>\n",
       "<p>100 rows × 2 columns</p>\n",
       "</div>"
      ],
      "text/plain": [
       "       x         z\n",
       "0    0.1  1.159563\n",
       "1    0.2  1.002381\n",
       "2    0.3  0.935920\n",
       "3    0.4  0.016261\n",
       "4    0.5  1.172652\n",
       "..   ...       ...\n",
       "95   9.6  2.267108\n",
       "96   9.7  2.351145\n",
       "97   9.8  1.957880\n",
       "98   9.9  1.426106\n",
       "99  10.0  2.250976\n",
       "\n",
       "[100 rows x 2 columns]"
      ]
     },
     "execution_count": 3,
     "metadata": {},
     "output_type": "execute_result"
    }
   ],
   "source": [
    "df"
   ]
  },
  {
   "cell_type": "code",
   "execution_count": 4,
   "id": "294ddbab",
   "metadata": {
    "execution": {
     "iopub.execute_input": "2024-01-26T18:10:38.290232Z",
     "iopub.status.busy": "2024-01-26T18:10:38.289821Z",
     "iopub.status.idle": "2024-01-26T18:10:38.658977Z",
     "shell.execute_reply": "2024-01-26T18:10:38.657749Z"
    },
    "papermill": {
     "duration": 0.376349,
     "end_time": "2024-01-26T18:10:38.661730",
     "exception": false,
     "start_time": "2024-01-26T18:10:38.285381",
     "status": "completed"
    },
    "tags": []
   },
   "outputs": [
    {
     "data": {
      "image/png": "[encoded data removed]",
      "text/plain": [
       "<Figure size 640x480 with 1 Axes>"
      ]
     },
     "metadata": {},
     "output_type": "display_data"
    }
   ],
   "source": [
    "x_list = [float(i) for i in list(df['x'])]\n",
    "y_list = [float(i) for i in list(df['z'])]\n",
    "\n",
    "plt.scatter(x_list, y_list, s=0.8)\n",
    "plt.tick_params(left = False, bottom = False)\n",
    "plt.show()"
   ]
  }
 ],
 "metadata": {
  "kaggle": {
   "accelerator": "none",
   "dataSources": [
    {
     "datasetId": 4349948,
     "sourceId": 7471948,
     "sourceType": "datasetVersion"
    },
    {
     "datasetId": 4350228,
     "sourceId": 7472329,
     "sourceType": "datasetVersion"
    }
   ],
   "dockerImageVersionId": 30635,
   "isGpuEnabled": false,
   "isInternetEnabled": true,
   "language": "python",
   "sourceType": "notebook"
  },
  "kernelspec": {
   "display_name": "Python 3",
   "language": "python",
   "name": "python3"
  },
  "language_info": {
   "codemirror_mode": {
    "name": "ipython",
    "version": 3
   },
   "file_extension": ".py",
   "mimetype": "text/x-python",
   "name": "python",
   "nbconvert_exporter": "python",
   "pygments_lexer": "ipython3",
   "version": "3.10.12"
  },
  "papermill": {
   "default_parameters": {},
   "duration": 5.005753,
   "end_time": "2024-01-26T18:10:39.187112",
   "environment_variables": {},
   "exception": null,
   "input_path": "__notebook__.ipynb",
   "output_path": "__notebook__.ipynb",
   "parameters": {},
   "start_time": "2024-01-26T18:10:34.181359",
   "version": "2.4.0"
  }
 },
 "nbformat": 4,
 "nbformat_minor": 5
}
