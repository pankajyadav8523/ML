{
 "cells": [
  {
   "cell_type": "code",
   "execution_count": null,
   "id": "f2d96d6d",
   "metadata": {
    "papermill": {
     "duration": 0.007386,
     "end_time": "2024-01-26T18:09:12.881167",
     "exception": false,
     "start_time": "2024-01-26T18:09:12.873781",
     "status": "completed"
    },
    "tags": []
   },
   "outputs": [],
   "source": []
  },
  {
   "cell_type": "code",
   "execution_count": 1,
   "id": "e322e891",
   "metadata": {
    "_cell_guid": "b1076dfc-b9ad-4769-8c92-a6c4dae69d19",
    "_uuid": "8f2839f25d086af736a60e9eeb907d3b93b6e0e5",
    "execution": {
     "iopub.execute_input": "2024-01-26T18:09:12.897079Z",
     "iopub.status.busy": "2024-01-26T18:09:12.895953Z",
     "iopub.status.idle": "2024-01-26T18:09:13.249290Z",
     "shell.execute_reply": "2024-01-26T18:09:13.248303Z"
    },
    "papermill": {
     "duration": 0.363913,
     "end_time": "2024-01-26T18:09:13.251785",
     "exception": false,
     "start_time": "2024-01-26T18:09:12.887872",
     "status": "completed"
    },
    "tags": []
   },
   "outputs": [],
   "source": [
    "import pandas as pd\n",
    "import numpy as np\n",
    "import matplotlib.pyplot as plt"
   ]
  },
  {
   "cell_type": "markdown",
   "id": "561f55fb",
   "metadata": {
    "papermill": {
     "duration": 0.006338,
     "end_time": "2024-01-26T18:09:13.264889",
     "exception": false,
     "start_time": "2024-01-26T18:09:13.258551",
     "status": "completed"
    },
    "tags": []
   },
   "source": [
    "**DateSet1 using Matrix inverse**"
   ]
  },
  {
   "cell_type": "code",
   "execution_count": 2,
   "id": "4dff851f",
   "metadata": {
    "execution": {
     "iopub.execute_input": "2024-01-26T18:09:13.279799Z",
     "iopub.status.busy": "2024-01-26T18:09:13.278987Z",
     "iopub.status.idle": "2024-01-26T18:09:13.298161Z",
     "shell.execute_reply": "2024-01-26T18:09:13.297126Z"
    },
    "papermill": {
     "duration": 0.029202,
     "end_time": "2024-01-26T18:09:13.300524",
     "exception": false,
     "start_time": "2024-01-26T18:09:13.271322",
     "status": "completed"
    },
    "tags": []
   },
   "outputs": [],
   "source": [
    "df = pd.read_csv('/kaggle/input/data1-csv/Data1.csv')"
   ]
  },
  {
   "cell_type": "code",
   "execution_count": 3,
   "id": "945d81d0",
   "metadata": {
    "execution": {
     "iopub.execute_input": "2024-01-26T18:09:13.315441Z",
     "iopub.status.busy": "2024-01-26T18:09:13.315090Z",
     "iopub.status.idle": "2024-01-26T18:09:13.343016Z",
     "shell.execute_reply": "2024-01-26T18:09:13.342256Z"
    },
    "papermill": {
     "duration": 0.037587,
     "end_time": "2024-01-26T18:09:13.344851",
     "exception": false,
     "start_time": "2024-01-26T18:09:13.307264",
     "status": "completed"
    },
    "tags": []
   },
   "outputs": [
    {
     "data": {
      "text/html": [
       "<div>\n",
       "<style scoped>\n",
       "    .dataframe tbody tr th:only-of-type {\n",
       "        vertical-align: middle;\n",
       "    }\n",
       "\n",
       "    .dataframe tbody tr th {\n",
       "        vertical-align: top;\n",
       "    }\n",
       "\n",
       "    .dataframe thead th {\n",
       "        text-align: right;\n",
       "    }\n",
       "</style>\n",
       "<table border=\"1\" class=\"dataframe\">\n",
       "  <thead>\n",
       "    <tr style=\"text-align: right;\">\n",
       "      <th></th>\n",
       "      <th>x</th>\n",
       "      <th>y</th>\n",
       "    </tr>\n",
       "  </thead>\n",
       "  <tbody>\n",
       "    <tr>\n",
       "      <th>0</th>\n",
       "      <td>0.1</td>\n",
       "      <td>8.298133</td>\n",
       "    </tr>\n",
       "    <tr>\n",
       "      <th>1</th>\n",
       "      <td>0.2</td>\n",
       "      <td>4.919282</td>\n",
       "    </tr>\n",
       "    <tr>\n",
       "      <th>2</th>\n",
       "      <td>0.3</td>\n",
       "      <td>4.145139</td>\n",
       "    </tr>\n",
       "    <tr>\n",
       "      <th>3</th>\n",
       "      <td>0.4</td>\n",
       "      <td>6.850788</td>\n",
       "    </tr>\n",
       "    <tr>\n",
       "      <th>4</th>\n",
       "      <td>0.5</td>\n",
       "      <td>6.375323</td>\n",
       "    </tr>\n",
       "    <tr>\n",
       "      <th>...</th>\n",
       "      <td>...</td>\n",
       "      <td>...</td>\n",
       "    </tr>\n",
       "    <tr>\n",
       "      <th>95</th>\n",
       "      <td>9.6</td>\n",
       "      <td>28.420698</td>\n",
       "    </tr>\n",
       "    <tr>\n",
       "      <th>96</th>\n",
       "      <td>9.7</td>\n",
       "      <td>27.984652</td>\n",
       "    </tr>\n",
       "    <tr>\n",
       "      <th>97</th>\n",
       "      <td>9.8</td>\n",
       "      <td>30.336851</td>\n",
       "    </tr>\n",
       "    <tr>\n",
       "      <th>98</th>\n",
       "      <td>9.9</td>\n",
       "      <td>30.376285</td>\n",
       "    </tr>\n",
       "    <tr>\n",
       "      <th>99</th>\n",
       "      <td>10.0</td>\n",
       "      <td>27.453770</td>\n",
       "    </tr>\n",
       "  </tbody>\n",
       "</table>\n",
       "<p>100 rows × 2 columns</p>\n",
       "</div>"
      ],
      "text/plain": [
       "       x          y\n",
       "0    0.1   8.298133\n",
       "1    0.2   4.919282\n",
       "2    0.3   4.145139\n",
       "3    0.4   6.850788\n",
       "4    0.5   6.375323\n",
       "..   ...        ...\n",
       "95   9.6  28.420698\n",
       "96   9.7  27.984652\n",
       "97   9.8  30.336851\n",
       "98   9.9  30.376285\n",
       "99  10.0  27.453770\n",
       "\n",
       "[100 rows x 2 columns]"
      ]
     },
     "execution_count": 3,
     "metadata": {},
     "output_type": "execute_result"
    }
   ],
   "source": [
    "df"
   ]
  },
  {
   "cell_type": "code",
   "execution_count": 4,
   "id": "835f27a0",
   "metadata": {
    "execution": {
     "iopub.execute_input": "2024-01-26T18:09:13.360148Z",
     "iopub.status.busy": "2024-01-26T18:09:13.359382Z",
     "iopub.status.idle": "2024-01-26T18:09:13.363567Z",
     "shell.execute_reply": "2024-01-26T18:09:13.362937Z"
    },
    "papermill": {
     "duration": 0.013647,
     "end_time": "2024-01-26T18:09:13.365293",
     "exception": false,
     "start_time": "2024-01-26T18:09:13.351646",
     "status": "completed"
    },
    "tags": []
   },
   "outputs": [],
   "source": [
    "x1 = np.array(df['x'])\n",
    "a = sum(x1)"
   ]
  },
  {
   "cell_type": "code",
   "execution_count": 5,
   "id": "7f5161e8",
   "metadata": {
    "execution": {
     "iopub.execute_input": "2024-01-26T18:09:13.380250Z",
     "iopub.status.busy": "2024-01-26T18:09:13.379620Z",
     "iopub.status.idle": "2024-01-26T18:09:13.383547Z",
     "shell.execute_reply": "2024-01-26T18:09:13.382783Z"
    },
    "papermill": {
     "duration": 0.013426,
     "end_time": "2024-01-26T18:09:13.385300",
     "exception": false,
     "start_time": "2024-01-26T18:09:13.371874",
     "status": "completed"
    },
    "tags": []
   },
   "outputs": [],
   "source": [
    "c = sum([i**2 for i in x1])"
   ]
  },
  {
   "cell_type": "code",
   "execution_count": 6,
   "id": "0fa8cde2",
   "metadata": {
    "execution": {
     "iopub.execute_input": "2024-01-26T18:09:13.400698Z",
     "iopub.status.busy": "2024-01-26T18:09:13.400095Z",
     "iopub.status.idle": "2024-01-26T18:09:13.403851Z",
     "shell.execute_reply": "2024-01-26T18:09:13.403204Z"
    },
    "papermill": {
     "duration": 0.013619,
     "end_time": "2024-01-26T18:09:13.405686",
     "exception": false,
     "start_time": "2024-01-26T18:09:13.392067",
     "status": "completed"
    },
    "tags": []
   },
   "outputs": [],
   "source": [
    "matrix_A = [[a, len(df)],[c, a]]"
   ]
  },
  {
   "cell_type": "code",
   "execution_count": 7,
   "id": "b5b4eb67",
   "metadata": {
    "execution": {
     "iopub.execute_input": "2024-01-26T18:09:13.420809Z",
     "iopub.status.busy": "2024-01-26T18:09:13.420246Z",
     "iopub.status.idle": "2024-01-26T18:09:13.425120Z",
     "shell.execute_reply": "2024-01-26T18:09:13.423869Z"
    },
    "papermill": {
     "duration": 0.01498,
     "end_time": "2024-01-26T18:09:13.427438",
     "exception": false,
     "start_time": "2024-01-26T18:09:13.412458",
     "status": "completed"
    },
    "tags": []
   },
   "outputs": [
    {
     "name": "stdout",
     "output_type": "stream",
     "text": [
      "[[505.0, 100], [3383.5000000000005, 505.0]]\n"
     ]
    }
   ],
   "source": [
    "print(matrix_A)"
   ]
  },
  {
   "cell_type": "code",
   "execution_count": 8,
   "id": "f4c48a9a",
   "metadata": {
    "execution": {
     "iopub.execute_input": "2024-01-26T18:09:13.442605Z",
     "iopub.status.busy": "2024-01-26T18:09:13.441785Z",
     "iopub.status.idle": "2024-01-26T18:09:13.450614Z",
     "shell.execute_reply": "2024-01-26T18:09:13.449951Z"
    },
    "papermill": {
     "duration": 0.018316,
     "end_time": "2024-01-26T18:09:13.452579",
     "exception": false,
     "start_time": "2024-01-26T18:09:13.434263",
     "status": "completed"
    },
    "tags": []
   },
   "outputs": [],
   "source": [
    "A_inv = np.linalg.inv(matrix_A)"
   ]
  },
  {
   "cell_type": "code",
   "execution_count": 9,
   "id": "3f33e6ae",
   "metadata": {
    "execution": {
     "iopub.execute_input": "2024-01-26T18:09:13.468736Z",
     "iopub.status.busy": "2024-01-26T18:09:13.468432Z",
     "iopub.status.idle": "2024-01-26T18:09:13.473357Z",
     "shell.execute_reply": "2024-01-26T18:09:13.472336Z"
    },
    "papermill": {
     "duration": 0.016644,
     "end_time": "2024-01-26T18:09:13.476192",
     "exception": false,
     "start_time": "2024-01-26T18:09:13.459548",
     "status": "completed"
    },
    "tags": []
   },
   "outputs": [
    {
     "name": "stdout",
     "output_type": "stream",
     "text": [
      "[[-0.00606061  0.00120012]\n",
      " [ 0.04060606 -0.00606061]]\n"
     ]
    }
   ],
   "source": [
    "print(A_inv)"
   ]
  },
  {
   "cell_type": "code",
   "execution_count": 10,
   "id": "fd32ce26",
   "metadata": {
    "execution": {
     "iopub.execute_input": "2024-01-26T18:09:13.493180Z",
     "iopub.status.busy": "2024-01-26T18:09:13.492634Z",
     "iopub.status.idle": "2024-01-26T18:09:13.497257Z",
     "shell.execute_reply": "2024-01-26T18:09:13.496565Z"
    },
    "papermill": {
     "duration": 0.015962,
     "end_time": "2024-01-26T18:09:13.499263",
     "exception": false,
     "start_time": "2024-01-26T18:09:13.483301",
     "status": "completed"
    },
    "tags": []
   },
   "outputs": [],
   "source": [
    "y1 = np.array(df['y'])\n",
    "p = sum(y1)"
   ]
  },
  {
   "cell_type": "code",
   "execution_count": 11,
   "id": "91291b9d",
   "metadata": {
    "execution": {
     "iopub.execute_input": "2024-01-26T18:09:13.515396Z",
     "iopub.status.busy": "2024-01-26T18:09:13.514708Z",
     "iopub.status.idle": "2024-01-26T18:09:13.520254Z",
     "shell.execute_reply": "2024-01-26T18:09:13.519268Z"
    },
    "papermill": {
     "duration": 0.015957,
     "end_time": "2024-01-26T18:09:13.522270",
     "exception": false,
     "start_time": "2024-01-26T18:09:13.506313",
     "status": "completed"
    },
    "tags": []
   },
   "outputs": [
    {
     "name": "stdout",
     "output_type": "stream",
     "text": [
      "10935.264732518895\n"
     ]
    }
   ],
   "source": [
    "q = x1*y1\n",
    "print(sum(q))"
   ]
  },
  {
   "cell_type": "code",
   "execution_count": 12,
   "id": "f76022a9",
   "metadata": {
    "execution": {
     "iopub.execute_input": "2024-01-26T18:09:13.538193Z",
     "iopub.status.busy": "2024-01-26T18:09:13.537421Z",
     "iopub.status.idle": "2024-01-26T18:09:13.541887Z",
     "shell.execute_reply": "2024-01-26T18:09:13.541246Z"
    },
    "papermill": {
     "duration": 0.014562,
     "end_time": "2024-01-26T18:09:13.543782",
     "exception": false,
     "start_time": "2024-01-26T18:09:13.529220",
     "status": "completed"
    },
    "tags": []
   },
   "outputs": [],
   "source": [
    "B = [[p], [sum(q)]]"
   ]
  },
  {
   "cell_type": "code",
   "execution_count": 13,
   "id": "a20948a2",
   "metadata": {
    "execution": {
     "iopub.execute_input": "2024-01-26T18:09:13.559425Z",
     "iopub.status.busy": "2024-01-26T18:09:13.558858Z",
     "iopub.status.idle": "2024-01-26T18:09:13.563025Z",
     "shell.execute_reply": "2024-01-26T18:09:13.562348Z"
    },
    "papermill": {
     "duration": 0.014114,
     "end_time": "2024-01-26T18:09:13.564856",
     "exception": false,
     "start_time": "2024-01-26T18:09:13.550742",
     "status": "completed"
    },
    "tags": []
   },
   "outputs": [],
   "source": [
    "w = A_inv@B"
   ]
  },
  {
   "cell_type": "code",
   "execution_count": 14,
   "id": "f2c7f142",
   "metadata": {
    "execution": {
     "iopub.execute_input": "2024-01-26T18:09:13.580681Z",
     "iopub.status.busy": "2024-01-26T18:09:13.580158Z",
     "iopub.status.idle": "2024-01-26T18:09:13.586110Z",
     "shell.execute_reply": "2024-01-26T18:09:13.585260Z"
    },
    "papermill": {
     "duration": 0.016097,
     "end_time": "2024-01-26T18:09:13.587964",
     "exception": false,
     "start_time": "2024-01-26T18:09:13.571867",
     "status": "completed"
    },
    "tags": []
   },
   "outputs": [
    {
     "data": {
      "text/plain": [
       "array([[2.38406007],\n",
       "       [5.68078713]])"
      ]
     },
     "execution_count": 14,
     "metadata": {},
     "output_type": "execute_result"
    }
   ],
   "source": [
    "w"
   ]
  },
  {
   "cell_type": "code",
   "execution_count": 15,
   "id": "c33137f7",
   "metadata": {
    "execution": {
     "iopub.execute_input": "2024-01-26T18:09:13.604024Z",
     "iopub.status.busy": "2024-01-26T18:09:13.603471Z",
     "iopub.status.idle": "2024-01-26T18:09:13.609777Z",
     "shell.execute_reply": "2024-01-26T18:09:13.608820Z"
    },
    "papermill": {
     "duration": 0.016689,
     "end_time": "2024-01-26T18:09:13.611689",
     "exception": false,
     "start_time": "2024-01-26T18:09:13.595000",
     "status": "completed"
    },
    "tags": []
   },
   "outputs": [
    {
     "data": {
      "text/plain": [
       "array([2.38406007])"
      ]
     },
     "execution_count": 15,
     "metadata": {},
     "output_type": "execute_result"
    }
   ],
   "source": [
    "w[0]"
   ]
  },
  {
   "cell_type": "code",
   "execution_count": 16,
   "id": "3bff767f",
   "metadata": {
    "execution": {
     "iopub.execute_input": "2024-01-26T18:09:13.627986Z",
     "iopub.status.busy": "2024-01-26T18:09:13.627415Z",
     "iopub.status.idle": "2024-01-26T18:09:13.632448Z",
     "shell.execute_reply": "2024-01-26T18:09:13.631765Z"
    },
    "papermill": {
     "duration": 0.015426,
     "end_time": "2024-01-26T18:09:13.634301",
     "exception": false,
     "start_time": "2024-01-26T18:09:13.618875",
     "status": "completed"
    },
    "tags": []
   },
   "outputs": [],
   "source": [
    "y_list = [((w[0])*i + w[1]) for i in df['x']]"
   ]
  },
  {
   "cell_type": "code",
   "execution_count": 17,
   "id": "6efa14f2",
   "metadata": {
    "execution": {
     "iopub.execute_input": "2024-01-26T18:09:13.650586Z",
     "iopub.status.busy": "2024-01-26T18:09:13.650056Z",
     "iopub.status.idle": "2024-01-26T18:09:13.656912Z",
     "shell.execute_reply": "2024-01-26T18:09:13.655965Z"
    },
    "papermill": {
     "duration": 0.017432,
     "end_time": "2024-01-26T18:09:13.658999",
     "exception": false,
     "start_time": "2024-01-26T18:09:13.641567",
     "status": "completed"
    },
    "tags": []
   },
   "outputs": [],
   "source": [
    "df['predicted'] = np.array(y_list)"
   ]
  },
  {
   "cell_type": "code",
   "execution_count": 18,
   "id": "02b38b1d",
   "metadata": {
    "execution": {
     "iopub.execute_input": "2024-01-26T18:09:13.674746Z",
     "iopub.status.busy": "2024-01-26T18:09:13.674411Z",
     "iopub.status.idle": "2024-01-26T18:09:13.687697Z",
     "shell.execute_reply": "2024-01-26T18:09:13.686979Z"
    },
    "papermill": {
     "duration": 0.023338,
     "end_time": "2024-01-26T18:09:13.689565",
     "exception": false,
     "start_time": "2024-01-26T18:09:13.666227",
     "status": "completed"
    },
    "tags": []
   },
   "outputs": [
    {
     "data": {
      "text/html": [
       "<div>\n",
       "<style scoped>\n",
       "    .dataframe tbody tr th:only-of-type {\n",
       "        vertical-align: middle;\n",
       "    }\n",
       "\n",
       "    .dataframe tbody tr th {\n",
       "        vertical-align: top;\n",
       "    }\n",
       "\n",
       "    .dataframe thead th {\n",
       "        text-align: right;\n",
       "    }\n",
       "</style>\n",
       "<table border=\"1\" class=\"dataframe\">\n",
       "  <thead>\n",
       "    <tr style=\"text-align: right;\">\n",
       "      <th></th>\n",
       "      <th>x</th>\n",
       "      <th>y</th>\n",
       "      <th>predicted</th>\n",
       "    </tr>\n",
       "  </thead>\n",
       "  <tbody>\n",
       "    <tr>\n",
       "      <th>0</th>\n",
       "      <td>0.1</td>\n",
       "      <td>8.298133</td>\n",
       "      <td>5.919193</td>\n",
       "    </tr>\n",
       "    <tr>\n",
       "      <th>1</th>\n",
       "      <td>0.2</td>\n",
       "      <td>4.919282</td>\n",
       "      <td>6.157599</td>\n",
       "    </tr>\n",
       "    <tr>\n",
       "      <th>2</th>\n",
       "      <td>0.3</td>\n",
       "      <td>4.145139</td>\n",
       "      <td>6.396005</td>\n",
       "    </tr>\n",
       "    <tr>\n",
       "      <th>3</th>\n",
       "      <td>0.4</td>\n",
       "      <td>6.850788</td>\n",
       "      <td>6.634411</td>\n",
       "    </tr>\n",
       "    <tr>\n",
       "      <th>4</th>\n",
       "      <td>0.5</td>\n",
       "      <td>6.375323</td>\n",
       "      <td>6.872817</td>\n",
       "    </tr>\n",
       "    <tr>\n",
       "      <th>...</th>\n",
       "      <td>...</td>\n",
       "      <td>...</td>\n",
       "      <td>...</td>\n",
       "    </tr>\n",
       "    <tr>\n",
       "      <th>95</th>\n",
       "      <td>9.6</td>\n",
       "      <td>28.420698</td>\n",
       "      <td>28.567764</td>\n",
       "    </tr>\n",
       "    <tr>\n",
       "      <th>96</th>\n",
       "      <td>9.7</td>\n",
       "      <td>27.984652</td>\n",
       "      <td>28.806170</td>\n",
       "    </tr>\n",
       "    <tr>\n",
       "      <th>97</th>\n",
       "      <td>9.8</td>\n",
       "      <td>30.336851</td>\n",
       "      <td>29.044576</td>\n",
       "    </tr>\n",
       "    <tr>\n",
       "      <th>98</th>\n",
       "      <td>9.9</td>\n",
       "      <td>30.376285</td>\n",
       "      <td>29.282982</td>\n",
       "    </tr>\n",
       "    <tr>\n",
       "      <th>99</th>\n",
       "      <td>10.0</td>\n",
       "      <td>27.453770</td>\n",
       "      <td>29.521388</td>\n",
       "    </tr>\n",
       "  </tbody>\n",
       "</table>\n",
       "<p>100 rows × 3 columns</p>\n",
       "</div>"
      ],
      "text/plain": [
       "       x          y  predicted\n",
       "0    0.1   8.298133   5.919193\n",
       "1    0.2   4.919282   6.157599\n",
       "2    0.3   4.145139   6.396005\n",
       "3    0.4   6.850788   6.634411\n",
       "4    0.5   6.375323   6.872817\n",
       "..   ...        ...        ...\n",
       "95   9.6  28.420698  28.567764\n",
       "96   9.7  27.984652  28.806170\n",
       "97   9.8  30.336851  29.044576\n",
       "98   9.9  30.376285  29.282982\n",
       "99  10.0  27.453770  29.521388\n",
       "\n",
       "[100 rows x 3 columns]"
      ]
     },
     "execution_count": 18,
     "metadata": {},
     "output_type": "execute_result"
    }
   ],
   "source": [
    "df"
   ]
  },
  {
   "cell_type": "code",
   "execution_count": 19,
   "id": "cf27ee13",
   "metadata": {
    "execution": {
     "iopub.execute_input": "2024-01-26T18:09:13.707079Z",
     "iopub.status.busy": "2024-01-26T18:09:13.706262Z",
     "iopub.status.idle": "2024-01-26T18:09:13.710454Z",
     "shell.execute_reply": "2024-01-26T18:09:13.709700Z"
    },
    "papermill": {
     "duration": 0.01457,
     "end_time": "2024-01-26T18:09:13.712320",
     "exception": false,
     "start_time": "2024-01-26T18:09:13.697750",
     "status": "completed"
    },
    "tags": []
   },
   "outputs": [],
   "source": [
    "def R2(df):\n",
    "  return 1 - Rss(df) / Tss(df)"
   ]
  },
  {
   "cell_type": "code",
   "execution_count": 20,
   "id": "0b45984e",
   "metadata": {
    "execution": {
     "iopub.execute_input": "2024-01-26T18:09:13.728868Z",
     "iopub.status.busy": "2024-01-26T18:09:13.728327Z",
     "iopub.status.idle": "2024-01-26T18:09:13.732236Z",
     "shell.execute_reply": "2024-01-26T18:09:13.731523Z"
    },
    "papermill": {
     "duration": 0.01416,
     "end_time": "2024-01-26T18:09:13.733965",
     "exception": false,
     "start_time": "2024-01-26T18:09:13.719805",
     "status": "completed"
    },
    "tags": []
   },
   "outputs": [],
   "source": [
    "def Rss(df):\n",
    "  return np.sum((df['y'] - df['predicted']) ** 2)"
   ]
  },
  {
   "cell_type": "code",
   "execution_count": 21,
   "id": "1ba4ba6a",
   "metadata": {
    "execution": {
     "iopub.execute_input": "2024-01-26T18:09:13.750170Z",
     "iopub.status.busy": "2024-01-26T18:09:13.749660Z",
     "iopub.status.idle": "2024-01-26T18:09:13.753568Z",
     "shell.execute_reply": "2024-01-26T18:09:13.752864Z"
    },
    "papermill": {
     "duration": 0.014118,
     "end_time": "2024-01-26T18:09:13.755325",
     "exception": false,
     "start_time": "2024-01-26T18:09:13.741207",
     "status": "completed"
    },
    "tags": []
   },
   "outputs": [],
   "source": [
    "def Tss(df):\n",
    "  return np.sum((df['y'] - np.mean(df['predicted']))** 2)"
   ]
  },
  {
   "cell_type": "code",
   "execution_count": 22,
   "id": "7b5e9fe9",
   "metadata": {
    "execution": {
     "iopub.execute_input": "2024-01-26T18:09:13.771282Z",
     "iopub.status.busy": "2024-01-26T18:09:13.770761Z",
     "iopub.status.idle": "2024-01-26T18:09:13.778947Z",
     "shell.execute_reply": "2024-01-26T18:09:13.778183Z"
    },
    "papermill": {
     "duration": 0.018242,
     "end_time": "2024-01-26T18:09:13.780748",
     "exception": false,
     "start_time": "2024-01-26T18:09:13.762506",
     "status": "completed"
    },
    "tags": []
   },
   "outputs": [
    {
     "data": {
      "text/plain": [
       "0.9579571905586357"
      ]
     },
     "execution_count": 22,
     "metadata": {},
     "output_type": "execute_result"
    }
   ],
   "source": [
    "R2(df)"
   ]
  },
  {
   "cell_type": "code",
   "execution_count": 23,
   "id": "f9190263",
   "metadata": {
    "execution": {
     "iopub.execute_input": "2024-01-26T18:09:13.798528Z",
     "iopub.status.busy": "2024-01-26T18:09:13.797421Z",
     "iopub.status.idle": "2024-01-26T18:09:14.004620Z",
     "shell.execute_reply": "2024-01-26T18:09:14.003559Z"
    },
    "papermill": {
     "duration": 0.21817,
     "end_time": "2024-01-26T18:09:14.006852",
     "exception": false,
     "start_time": "2024-01-26T18:09:13.788682",
     "status": "completed"
    },
    "tags": []
   },
   "outputs": [
    {
     "data": {
      "image/png": "[encoded data removed]",
      "text/plain": [
       "<Figure size 640x480 with 1 Axes>"
      ]
     },
     "metadata": {},
     "output_type": "display_data"
    }
   ],
   "source": [
    "x_list = [float(i) for i in df['x']]\n",
    "y_list = [float(i) for i in df['y']]\n",
    "plt.scatter(x_list, y_list,s=0.4)\n",
    "plt.plot(x_list, df['predicted'])\n",
    "plt.show()"
   ]
  },
  {
   "cell_type": "markdown",
   "id": "cccc648c",
   "metadata": {
    "papermill": {
     "duration": 0.007692,
     "end_time": "2024-01-26T18:09:14.022439",
     "exception": false,
     "start_time": "2024-01-26T18:09:14.014747",
     "status": "completed"
    },
    "tags": []
   },
   "source": [
    "**Verify using Scikit Learn**"
   ]
  },
  {
   "cell_type": "code",
   "execution_count": 24,
   "id": "39a69d55",
   "metadata": {
    "execution": {
     "iopub.execute_input": "2024-01-26T18:09:14.039510Z",
     "iopub.status.busy": "2024-01-26T18:09:14.039156Z",
     "iopub.status.idle": "2024-01-26T18:09:15.321906Z",
     "shell.execute_reply": "2024-01-26T18:09:15.321039Z"
    },
    "papermill": {
     "duration": 1.294139,
     "end_time": "2024-01-26T18:09:15.324323",
     "exception": false,
     "start_time": "2024-01-26T18:09:14.030184",
     "status": "completed"
    },
    "tags": []
   },
   "outputs": [],
   "source": [
    "from sklearn.linear_model import LinearRegression\n",
    "from sklearn.metrics import r2_score\n",
    "lr = LinearRegression()"
   ]
  },
  {
   "cell_type": "code",
   "execution_count": 25,
   "id": "ceb0711f",
   "metadata": {
    "execution": {
     "iopub.execute_input": "2024-01-26T18:09:15.342237Z",
     "iopub.status.busy": "2024-01-26T18:09:15.341312Z",
     "iopub.status.idle": "2024-01-26T18:09:15.369101Z",
     "shell.execute_reply": "2024-01-26T18:09:15.368136Z"
    },
    "papermill": {
     "duration": 0.038743,
     "end_time": "2024-01-26T18:09:15.371206",
     "exception": false,
     "start_time": "2024-01-26T18:09:15.332463",
     "status": "completed"
    },
    "tags": []
   },
   "outputs": [
    {
     "data": {
      "text/html": [
       "<style>#sk-container-id-1 {color: black;background-color: white;}#sk-container-id-1 pre{padding: 0;}#sk-container-id-1 div.sk-toggleable {background-color: white;}#sk-container-id-1 label.sk-toggleable__label {cursor: pointer;display: block;width: 100%;margin-bottom: 0;padding: 0.3em;box-sizing: border-box;text-align: center;}#sk-container-id-1 label.sk-toggleable__label-arrow:before {content: \"▸\";float: left;margin-right: 0.25em;color: #696969;}#sk-container-id-1 label.sk-toggleable__label-arrow:hover:before {color: black;}#sk-container-id-1 div.sk-estimator:hover label.sk-toggleable__label-arrow:before {color: black;}#sk-container-id-1 div.sk-toggleable__content {max-height: 0;max-width: 0;overflow: hidden;text-align: left;background-color: #f0f8ff;}#sk-container-id-1 div.sk-toggleable__content pre {margin: 0.2em;color: black;border-radius: 0.25em;background-color: #f0f8ff;}#sk-container-id-1 input.sk-toggleable__control:checked~div.sk-toggleable__content {max-height: 200px;max-width: 100%;overflow: auto;}#sk-container-id-1 input.sk-toggleable__control:checked~label.sk-toggleable__label-arrow:before {content: \"▾\";}#sk-container-id-1 div.sk-estimator input.sk-toggleable__control:checked~label.sk-toggleable__label {background-color: #d4ebff;}#sk-container-id-1 div.sk-label input.sk-toggleable__control:checked~label.sk-toggleable__label {background-color: #d4ebff;}#sk-container-id-1 input.sk-hidden--visually {border: 0;clip: rect(1px 1px 1px 1px);clip: rect(1px, 1px, 1px, 1px);height: 1px;margin: -1px;overflow: hidden;padding: 0;position: absolute;width: 1px;}#sk-container-id-1 div.sk-estimator {font-family: monospace;background-color: #f0f8ff;border: 1px dotted black;border-radius: 0.25em;box-sizing: border-box;margin-bottom: 0.5em;}#sk-container-id-1 div.sk-estimator:hover {background-color: #d4ebff;}#sk-container-id-1 div.sk-parallel-item::after {content: \"\";width: 100%;border-bottom: 1px solid gray;flex-grow: 1;}#sk-container-id-1 div.sk-label:hover label.sk-toggleable__label {background-color: #d4ebff;}#sk-container-id-1 div.sk-serial::before {content: \"\";position: absolute;border-left: 1px solid gray;box-sizing: border-box;top: 0;bottom: 0;left: 50%;z-index: 0;}#sk-container-id-1 div.sk-serial {display: flex;flex-direction: column;align-items: center;background-color: white;padding-right: 0.2em;padding-left: 0.2em;position: relative;}#sk-container-id-1 div.sk-item {position: relative;z-index: 1;}#sk-container-id-1 div.sk-parallel {display: flex;align-items: stretch;justify-content: center;background-color: white;position: relative;}#sk-container-id-1 div.sk-item::before, #sk-container-id-1 div.sk-parallel-item::before {content: \"\";position: absolute;border-left: 1px solid gray;box-sizing: border-box;top: 0;bottom: 0;left: 50%;z-index: -1;}#sk-container-id-1 div.sk-parallel-item {display: flex;flex-direction: column;z-index: 1;position: relative;background-color: white;}#sk-container-id-1 div.sk-parallel-item:first-child::after {align-self: flex-end;width: 50%;}#sk-container-id-1 div.sk-parallel-item:last-child::after {align-self: flex-start;width: 50%;}#sk-container-id-1 div.sk-parallel-item:only-child::after {width: 0;}#sk-container-id-1 div.sk-dashed-wrapped {border: 1px dashed gray;margin: 0 0.4em 0.5em 0.4em;box-sizing: border-box;padding-bottom: 0.4em;background-color: white;}#sk-container-id-1 div.sk-label label {font-family: monospace;font-weight: bold;display: inline-block;line-height: 1.2em;}#sk-container-id-1 div.sk-label-container {text-align: center;}#sk-container-id-1 div.sk-container {/* jupyter's `normalize.less` sets `[hidden] { display: none; }` but bootstrap.min.css set `[hidden] { display: none !important; }` so we also need the `!important` here to be able to override the default hidden behavior on the sphinx rendered scikit-learn.org. See: https://github.com/scikit-learn/scikit-learn/issues/21755 */display: inline-block !important;position: relative;}#sk-container-id-1 div.sk-text-repr-fallback {display: none;}</style><div id=\"sk-container-id-1\" class=\"sk-top-container\"><div class=\"sk-text-repr-fallback\"><pre>LinearRegression()</pre><b>In a Jupyter environment, please rerun this cell to show the HTML representation or trust the notebook. <br />On GitHub, the HTML representation is unable to render, please try loading this page with nbviewer.org.</b></div><div class=\"sk-container\" hidden><div class=\"sk-item\"><div class=\"sk-estimator sk-toggleable\"><input class=\"sk-toggleable__control sk-hidden--visually\" id=\"sk-estimator-id-1\" type=\"checkbox\" checked><label for=\"sk-estimator-id-1\" class=\"sk-toggleable__label sk-toggleable__label-arrow\">LinearRegression</label><div class=\"sk-toggleable__content\"><pre>LinearRegression()</pre></div></div></div></div></div>"
      ],
      "text/plain": [
       "LinearRegression()"
      ]
     },
     "execution_count": 25,
     "metadata": {},
     "output_type": "execute_result"
    }
   ],
   "source": [
    "X = df[['x']]\n",
    "y = df[['y']]\n",
    "lr.fit(X,y)"
   ]
  },
  {
   "cell_type": "code",
   "execution_count": 26,
   "id": "2e00a234",
   "metadata": {
    "execution": {
     "iopub.execute_input": "2024-01-26T18:09:15.389337Z",
     "iopub.status.busy": "2024-01-26T18:09:15.389012Z",
     "iopub.status.idle": "2024-01-26T18:09:15.394631Z",
     "shell.execute_reply": "2024-01-26T18:09:15.393596Z"
    },
    "papermill": {
     "duration": 0.017049,
     "end_time": "2024-01-26T18:09:15.396474",
     "exception": false,
     "start_time": "2024-01-26T18:09:15.379425",
     "status": "completed"
    },
    "tags": []
   },
   "outputs": [],
   "source": [
    "y_predict = lr.predict(X)"
   ]
  },
  {
   "cell_type": "code",
   "execution_count": 27,
   "id": "c19b52ca",
   "metadata": {
    "execution": {
     "iopub.execute_input": "2024-01-26T18:09:15.414329Z",
     "iopub.status.busy": "2024-01-26T18:09:15.413995Z",
     "iopub.status.idle": "2024-01-26T18:09:15.421074Z",
     "shell.execute_reply": "2024-01-26T18:09:15.420050Z"
    },
    "papermill": {
     "duration": 0.018525,
     "end_time": "2024-01-26T18:09:15.423059",
     "exception": false,
     "start_time": "2024-01-26T18:09:15.404534",
     "status": "completed"
    },
    "tags": []
   },
   "outputs": [
    {
     "name": "stdout",
     "output_type": "stream",
     "text": [
      "R-squared: 0.9579571905586357\n"
     ]
    }
   ],
   "source": [
    "r_squared = r2_score(y, y_predict)\n",
    "print(f'R-squared: {r_squared}')"
   ]
  },
  {
   "cell_type": "code",
   "execution_count": 28,
   "id": "8edb99f9",
   "metadata": {
    "execution": {
     "iopub.execute_input": "2024-01-26T18:09:15.489860Z",
     "iopub.status.busy": "2024-01-26T18:09:15.489501Z",
     "iopub.status.idle": "2024-01-26T18:09:15.662876Z",
     "shell.execute_reply": "2024-01-26T18:09:15.661769Z"
    },
    "papermill": {
     "duration": 0.1854,
     "end_time": "2024-01-26T18:09:15.665120",
     "exception": false,
     "start_time": "2024-01-26T18:09:15.479720",
     "status": "completed"
    },
    "tags": []
   },
   "outputs": [
    {
     "data": {
      "image/png": "[encoded data removed]",
      "text/plain": [
       "<Figure size 640x480 with 1 Axes>"
      ]
     },
     "metadata": {},
     "output_type": "display_data"
    }
   ],
   "source": [
    "x_list = [float(i) for i in df['x']]\n",
    "y_list = [float(i) for i in df['y']]\n",
    "plt.scatter(x_list, y_list,s=0.4)\n",
    "plt.plot(x_list, y_predict)\n",
    "plt.show()"
   ]
  }
 ],
 "metadata": {
  "kaggle": {
   "accelerator": "none",
   "dataSources": [
    {
     "datasetId": 4332062,
     "sourceId": 7442716,
     "sourceType": "datasetVersion"
    }
   ],
   "dockerImageVersionId": 30635,
   "isGpuEnabled": false,
   "isInternetEnabled": true,
   "language": "python",
   "sourceType": "notebook"
  },
  "kernelspec": {
   "display_name": "Python 3",
   "language": "python",
   "name": "python3"
  },
  "language_info": {
   "codemirror_mode": {
    "name": "ipython",
    "version": 3
   },
   "file_extension": ".py",
   "mimetype": "text/x-python",
   "name": "python",
   "nbconvert_exporter": "python",
   "pygments_lexer": "ipython3",
   "version": "3.10.12"
  },
  "papermill": {
   "default_parameters": {},
   "duration": 6.248529,
   "end_time": "2024-01-26T18:09:16.194172",
   "environment_variables": {},
   "exception": null,
   "input_path": "__notebook__.ipynb",
   "output_path": "__notebook__.ipynb",
   "parameters": {},
   "start_time": "2024-01-26T18:09:09.945643",
   "version": "2.4.0"
  }
 },
 "nbformat": 4,
 "nbformat_minor": 5
}
