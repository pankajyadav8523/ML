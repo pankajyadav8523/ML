{
 "cells": [
  {
   "cell_type": "code",
   "execution_count": 1,
   "id": "588f2a5f",
   "metadata": {
    "_cell_guid": "b1076dfc-b9ad-4769-8c92-a6c4dae69d19",
    "_uuid": "8f2839f25d086af736a60e9eeb907d3b93b6e0e5",
    "execution": {
     "iopub.execute_input": "2024-01-26T18:06:30.575602Z",
     "iopub.status.busy": "2024-01-26T18:06:30.574829Z",
     "iopub.status.idle": "2024-01-26T18:06:30.980726Z",
     "shell.execute_reply": "2024-01-26T18:06:30.979599Z"
    },
    "papermill": {
     "duration": 0.423393,
     "end_time": "2024-01-26T18:06:30.983505",
     "exception": false,
     "start_time": "2024-01-26T18:06:30.560112",
     "status": "completed"
    },
    "tags": []
   },
   "outputs": [],
   "source": [
    "import pandas as pd\n",
    "import numpy as np\n",
    "import matplotlib.pyplot as plt\n",
    "from math import *"
   ]
  },
  {
   "cell_type": "markdown",
   "id": "461913b4",
   "metadata": {
    "papermill": {
     "duration": 0.011994,
     "end_time": "2024-01-26T18:06:31.008535",
     "exception": false,
     "start_time": "2024-01-26T18:06:30.996541",
     "status": "completed"
    },
    "tags": []
   },
   "source": [
    "**Predicting for DataSet2 using Matrix inverse**"
   ]
  },
  {
   "cell_type": "code",
   "execution_count": 2,
   "id": "7fa1e11f",
   "metadata": {
    "execution": {
     "iopub.execute_input": "2024-01-26T18:06:31.034518Z",
     "iopub.status.busy": "2024-01-26T18:06:31.033970Z",
     "iopub.status.idle": "2024-01-26T18:06:31.053933Z",
     "shell.execute_reply": "2024-01-26T18:06:31.052843Z"
    },
    "papermill": {
     "duration": 0.03548,
     "end_time": "2024-01-26T18:06:31.056198",
     "exception": false,
     "start_time": "2024-01-26T18:06:31.020718",
     "status": "completed"
    },
    "tags": []
   },
   "outputs": [],
   "source": [
    "df = pd.read_csv('/kaggle/input/dataset3/Data2.csv')"
   ]
  },
  {
   "cell_type": "code",
   "execution_count": 3,
   "id": "555799da",
   "metadata": {
    "execution": {
     "iopub.execute_input": "2024-01-26T18:06:31.082617Z",
     "iopub.status.busy": "2024-01-26T18:06:31.082226Z",
     "iopub.status.idle": "2024-01-26T18:06:31.106154Z",
     "shell.execute_reply": "2024-01-26T18:06:31.105436Z"
    },
    "papermill": {
     "duration": 0.040113,
     "end_time": "2024-01-26T18:06:31.108383",
     "exception": false,
     "start_time": "2024-01-26T18:06:31.068270",
     "status": "completed"
    },
    "tags": []
   },
   "outputs": [
    {
     "data": {
      "text/html": [
       "<div>\n",
       "<style scoped>\n",
       "    .dataframe tbody tr th:only-of-type {\n",
       "        vertical-align: middle;\n",
       "    }\n",
       "\n",
       "    .dataframe tbody tr th {\n",
       "        vertical-align: top;\n",
       "    }\n",
       "\n",
       "    .dataframe thead th {\n",
       "        text-align: right;\n",
       "    }\n",
       "</style>\n",
       "<table border=\"1\" class=\"dataframe\">\n",
       "  <thead>\n",
       "    <tr style=\"text-align: right;\">\n",
       "      <th></th>\n",
       "      <th>x</th>\n",
       "      <th>y</th>\n",
       "    </tr>\n",
       "  </thead>\n",
       "  <tbody>\n",
       "    <tr>\n",
       "      <th>0</th>\n",
       "      <td>0.1</td>\n",
       "      <td>5.764952e+01</td>\n",
       "    </tr>\n",
       "    <tr>\n",
       "      <th>1</th>\n",
       "      <td>0.2</td>\n",
       "      <td>4.740870e+01</td>\n",
       "    </tr>\n",
       "    <tr>\n",
       "      <th>2</th>\n",
       "      <td>0.3</td>\n",
       "      <td>6.946902e+01</td>\n",
       "    </tr>\n",
       "    <tr>\n",
       "      <th>3</th>\n",
       "      <td>0.4</td>\n",
       "      <td>3.755086e+01</td>\n",
       "    </tr>\n",
       "    <tr>\n",
       "      <th>4</th>\n",
       "      <td>0.5</td>\n",
       "      <td>7.860685e+01</td>\n",
       "    </tr>\n",
       "    <tr>\n",
       "      <th>...</th>\n",
       "      <td>...</td>\n",
       "      <td>...</td>\n",
       "    </tr>\n",
       "    <tr>\n",
       "      <th>95</th>\n",
       "      <td>9.6</td>\n",
       "      <td>3.636073e+05</td>\n",
       "    </tr>\n",
       "    <tr>\n",
       "      <th>96</th>\n",
       "      <td>9.7</td>\n",
       "      <td>8.819300e+05</td>\n",
       "    </tr>\n",
       "    <tr>\n",
       "      <th>97</th>\n",
       "      <td>9.8</td>\n",
       "      <td>1.053557e+06</td>\n",
       "    </tr>\n",
       "    <tr>\n",
       "      <th>98</th>\n",
       "      <td>9.9</td>\n",
       "      <td>4.503040e+05</td>\n",
       "    </tr>\n",
       "    <tr>\n",
       "      <th>99</th>\n",
       "      <td>10.0</td>\n",
       "      <td>1.311153e+06</td>\n",
       "    </tr>\n",
       "  </tbody>\n",
       "</table>\n",
       "<p>100 rows × 2 columns</p>\n",
       "</div>"
      ],
      "text/plain": [
       "       x             y\n",
       "0    0.1  5.764952e+01\n",
       "1    0.2  4.740870e+01\n",
       "2    0.3  6.946902e+01\n",
       "3    0.4  3.755086e+01\n",
       "4    0.5  7.860685e+01\n",
       "..   ...           ...\n",
       "95   9.6  3.636073e+05\n",
       "96   9.7  8.819300e+05\n",
       "97   9.8  1.053557e+06\n",
       "98   9.9  4.503040e+05\n",
       "99  10.0  1.311153e+06\n",
       "\n",
       "[100 rows x 2 columns]"
      ]
     },
     "execution_count": 3,
     "metadata": {},
     "output_type": "execute_result"
    }
   ],
   "source": [
    "df"
   ]
  },
  {
   "cell_type": "code",
   "execution_count": 4,
   "id": "a30ce6c4",
   "metadata": {
    "execution": {
     "iopub.execute_input": "2024-01-26T18:06:31.135957Z",
     "iopub.status.busy": "2024-01-26T18:06:31.135300Z",
     "iopub.status.idle": "2024-01-26T18:06:31.490204Z",
     "shell.execute_reply": "2024-01-26T18:06:31.489225Z"
    },
    "papermill": {
     "duration": 0.371706,
     "end_time": "2024-01-26T18:06:31.492645",
     "exception": false,
     "start_time": "2024-01-26T18:06:31.120939",
     "status": "completed"
    },
    "tags": []
   },
   "outputs": [
    {
     "data": {
      "image/png": "[encoded data removed]",
      "text/plain": [
       "<Figure size 640x480 with 1 Axes>"
      ]
     },
     "metadata": {},
     "output_type": "display_data"
    }
   ],
   "source": [
    "x_list = [float(i) for i in list(df['x'])]\n",
    "y_list = [float(i) for i in list(df['y'])]\n",
    "\n",
    "plt.scatter(x_list, y_list, s=0.8)\n",
    "plt.tick_params(left = False, bottom = False)\n",
    "plt.show()"
   ]
  },
  {
   "cell_type": "code",
   "execution_count": 5,
   "id": "bfef4247",
   "metadata": {
    "execution": {
     "iopub.execute_input": "2024-01-26T18:06:31.520432Z",
     "iopub.status.busy": "2024-01-26T18:06:31.520022Z",
     "iopub.status.idle": "2024-01-26T18:06:31.524722Z",
     "shell.execute_reply": "2024-01-26T18:06:31.523711Z"
    },
    "papermill": {
     "duration": 0.021216,
     "end_time": "2024-01-26T18:06:31.527019",
     "exception": false,
     "start_time": "2024-01-26T18:06:31.505803",
     "status": "completed"
    },
    "tags": []
   },
   "outputs": [],
   "source": [
    "x1 = np.array(df['x'])\n",
    "a = sum(x1)"
   ]
  },
  {
   "cell_type": "code",
   "execution_count": 6,
   "id": "ec9db514",
   "metadata": {
    "execution": {
     "iopub.execute_input": "2024-01-26T18:06:31.555164Z",
     "iopub.status.busy": "2024-01-26T18:06:31.554772Z",
     "iopub.status.idle": "2024-01-26T18:06:31.561617Z",
     "shell.execute_reply": "2024-01-26T18:06:31.560877Z"
    },
    "papermill": {
     "duration": 0.02349,
     "end_time": "2024-01-26T18:06:31.563565",
     "exception": false,
     "start_time": "2024-01-26T18:06:31.540075",
     "status": "completed"
    },
    "tags": []
   },
   "outputs": [
    {
     "data": {
      "text/plain": [
       "array([ 0.1,  0.2,  0.3,  0.4,  0.5,  0.6,  0.7,  0.8,  0.9,  1. ,  1.1,\n",
       "        1.2,  1.3,  1.4,  1.5,  1.6,  1.7,  1.8,  1.9,  2. ,  2.1,  2.2,\n",
       "        2.3,  2.4,  2.5,  2.6,  2.7,  2.8,  2.9,  3. ,  3.1,  3.2,  3.3,\n",
       "        3.4,  3.5,  3.6,  3.7,  3.8,  3.9,  4. ,  4.1,  4.2,  4.3,  4.4,\n",
       "        4.5,  4.6,  4.7,  4.8,  4.9,  5. ,  5.1,  5.2,  5.3,  5.4,  5.5,\n",
       "        5.6,  5.7,  5.8,  5.9,  6. ,  6.1,  6.2,  6.3,  6.4,  6.5,  6.6,\n",
       "        6.7,  6.8,  6.9,  7. ,  7.1,  7.2,  7.3,  7.4,  7.5,  7.6,  7.7,\n",
       "        7.8,  7.9,  8. ,  8.1,  8.2,  8.3,  8.4,  8.5,  8.6,  8.7,  8.8,\n",
       "        8.9,  9. ,  9.1,  9.2,  9.3,  9.4,  9.5,  9.6,  9.7,  9.8,  9.9,\n",
       "       10. ])"
      ]
     },
     "execution_count": 6,
     "metadata": {},
     "output_type": "execute_result"
    }
   ],
   "source": [
    "x1"
   ]
  },
  {
   "cell_type": "code",
   "execution_count": 7,
   "id": "408e05f8",
   "metadata": {
    "execution": {
     "iopub.execute_input": "2024-01-26T18:06:31.591997Z",
     "iopub.status.busy": "2024-01-26T18:06:31.591338Z",
     "iopub.status.idle": "2024-01-26T18:06:31.595425Z",
     "shell.execute_reply": "2024-01-26T18:06:31.594736Z"
    },
    "papermill": {
     "duration": 0.020877,
     "end_time": "2024-01-26T18:06:31.597329",
     "exception": false,
     "start_time": "2024-01-26T18:06:31.576452",
     "status": "completed"
    },
    "tags": []
   },
   "outputs": [],
   "source": [
    "c = sum([i**2 for i in x1])"
   ]
  },
  {
   "cell_type": "code",
   "execution_count": 8,
   "id": "e06de07c",
   "metadata": {
    "execution": {
     "iopub.execute_input": "2024-01-26T18:06:31.625300Z",
     "iopub.status.busy": "2024-01-26T18:06:31.624901Z",
     "iopub.status.idle": "2024-01-26T18:06:31.629433Z",
     "shell.execute_reply": "2024-01-26T18:06:31.628509Z"
    },
    "papermill": {
     "duration": 0.021133,
     "end_time": "2024-01-26T18:06:31.631420",
     "exception": false,
     "start_time": "2024-01-26T18:06:31.610287",
     "status": "completed"
    },
    "tags": []
   },
   "outputs": [],
   "source": [
    "matrix_A = [[a, len(df)],[c, a]]"
   ]
  },
  {
   "cell_type": "code",
   "execution_count": 9,
   "id": "0d77fb4e",
   "metadata": {
    "execution": {
     "iopub.execute_input": "2024-01-26T18:06:31.657942Z",
     "iopub.status.busy": "2024-01-26T18:06:31.657286Z",
     "iopub.status.idle": "2024-01-26T18:06:31.662435Z",
     "shell.execute_reply": "2024-01-26T18:06:31.661281Z"
    },
    "papermill": {
     "duration": 0.021621,
     "end_time": "2024-01-26T18:06:31.665083",
     "exception": false,
     "start_time": "2024-01-26T18:06:31.643462",
     "status": "completed"
    },
    "tags": []
   },
   "outputs": [
    {
     "name": "stdout",
     "output_type": "stream",
     "text": [
      "[[505.0, 100], [3383.5000000000005, 505.0]]\n"
     ]
    }
   ],
   "source": [
    "print(matrix_A)"
   ]
  },
  {
   "cell_type": "code",
   "execution_count": 10,
   "id": "67ee0f70",
   "metadata": {
    "execution": {
     "iopub.execute_input": "2024-01-26T18:06:31.693228Z",
     "iopub.status.busy": "2024-01-26T18:06:31.692880Z",
     "iopub.status.idle": "2024-01-26T18:06:31.697094Z",
     "shell.execute_reply": "2024-01-26T18:06:31.696155Z"
    },
    "papermill": {
     "duration": 0.022357,
     "end_time": "2024-01-26T18:06:31.700382",
     "exception": false,
     "start_time": "2024-01-26T18:06:31.678025",
     "status": "completed"
    },
    "tags": []
   },
   "outputs": [],
   "source": [
    "A_inv = np.linalg.inv(matrix_A)"
   ]
  },
  {
   "cell_type": "code",
   "execution_count": 11,
   "id": "8d841c3f",
   "metadata": {
    "execution": {
     "iopub.execute_input": "2024-01-26T18:06:31.735362Z",
     "iopub.status.busy": "2024-01-26T18:06:31.735004Z",
     "iopub.status.idle": "2024-01-26T18:06:31.740264Z",
     "shell.execute_reply": "2024-01-26T18:06:31.739240Z"
    },
    "papermill": {
     "duration": 0.023263,
     "end_time": "2024-01-26T18:06:31.743743",
     "exception": false,
     "start_time": "2024-01-26T18:06:31.720480",
     "status": "completed"
    },
    "tags": []
   },
   "outputs": [
    {
     "name": "stdout",
     "output_type": "stream",
     "text": [
      "[[-0.00606061  0.00120012]\n",
      " [ 0.04060606 -0.00606061]]\n"
     ]
    }
   ],
   "source": [
    "print(A_inv)"
   ]
  },
  {
   "cell_type": "code",
   "execution_count": 12,
   "id": "cba8c9ed",
   "metadata": {
    "execution": {
     "iopub.execute_input": "2024-01-26T18:06:31.772880Z",
     "iopub.status.busy": "2024-01-26T18:06:31.772124Z",
     "iopub.status.idle": "2024-01-26T18:06:31.777093Z",
     "shell.execute_reply": "2024-01-26T18:06:31.776422Z"
    },
    "papermill": {
     "duration": 0.021865,
     "end_time": "2024-01-26T18:06:31.779226",
     "exception": false,
     "start_time": "2024-01-26T18:06:31.757361",
     "status": "completed"
    },
    "tags": []
   },
   "outputs": [],
   "source": [
    "y_new = [log(i) for i in df['y']]\n",
    "p = sum(y_new)"
   ]
  },
  {
   "cell_type": "code",
   "execution_count": 13,
   "id": "7b3ffcad",
   "metadata": {
    "execution": {
     "iopub.execute_input": "2024-01-26T18:06:31.807817Z",
     "iopub.status.busy": "2024-01-26T18:06:31.806895Z",
     "iopub.status.idle": "2024-01-26T18:06:31.812777Z",
     "shell.execute_reply": "2024-01-26T18:06:31.811626Z"
    },
    "papermill": {
     "duration": 0.022512,
     "end_time": "2024-01-26T18:06:31.814933",
     "exception": false,
     "start_time": "2024-01-26T18:06:31.792421",
     "status": "completed"
    },
    "tags": []
   },
   "outputs": [
    {
     "name": "stdout",
     "output_type": "stream",
     "text": [
      "859.5759798115773\n"
     ]
    }
   ],
   "source": [
    "print(p)"
   ]
  },
  {
   "cell_type": "code",
   "execution_count": 14,
   "id": "ce7504e1",
   "metadata": {
    "execution": {
     "iopub.execute_input": "2024-01-26T18:06:31.843491Z",
     "iopub.status.busy": "2024-01-26T18:06:31.842764Z",
     "iopub.status.idle": "2024-01-26T18:06:31.847363Z",
     "shell.execute_reply": "2024-01-26T18:06:31.846691Z"
    },
    "papermill": {
     "duration": 0.021517,
     "end_time": "2024-01-26T18:06:31.849493",
     "exception": false,
     "start_time": "2024-01-26T18:06:31.827976",
     "status": "completed"
    },
    "tags": []
   },
   "outputs": [],
   "source": [
    "y1 = np.array(y_new)"
   ]
  },
  {
   "cell_type": "code",
   "execution_count": 15,
   "id": "61ba76d2",
   "metadata": {
    "execution": {
     "iopub.execute_input": "2024-01-26T18:06:31.878129Z",
     "iopub.status.busy": "2024-01-26T18:06:31.877358Z",
     "iopub.status.idle": "2024-01-26T18:06:31.883539Z",
     "shell.execute_reply": "2024-01-26T18:06:31.882267Z"
    },
    "papermill": {
     "duration": 0.02309,
     "end_time": "2024-01-26T18:06:31.885689",
     "exception": false,
     "start_time": "2024-01-26T18:06:31.862599",
     "status": "completed"
    },
    "tags": []
   },
   "outputs": [
    {
     "name": "stdout",
     "output_type": "stream",
     "text": [
      "5151.608824799193\n"
     ]
    }
   ],
   "source": [
    "q = x1*y1\n",
    "print(sum(q))"
   ]
  },
  {
   "cell_type": "code",
   "execution_count": 16,
   "id": "f0734d15",
   "metadata": {
    "execution": {
     "iopub.execute_input": "2024-01-26T18:06:31.913511Z",
     "iopub.status.busy": "2024-01-26T18:06:31.913089Z",
     "iopub.status.idle": "2024-01-26T18:06:31.918265Z",
     "shell.execute_reply": "2024-01-26T18:06:31.917309Z"
    },
    "papermill": {
     "duration": 0.021801,
     "end_time": "2024-01-26T18:06:31.920545",
     "exception": false,
     "start_time": "2024-01-26T18:06:31.898744",
     "status": "completed"
    },
    "tags": []
   },
   "outputs": [
    {
     "name": "stdout",
     "output_type": "stream",
     "text": [
      "[[859.5759798115773], [5151.608824799193]]\n"
     ]
    }
   ],
   "source": [
    "B = [[p], [sum(q)]]\n",
    "print(B)"
   ]
  },
  {
   "cell_type": "code",
   "execution_count": 17,
   "id": "d09f2229",
   "metadata": {
    "execution": {
     "iopub.execute_input": "2024-01-26T18:06:32.005707Z",
     "iopub.status.busy": "2024-01-26T18:06:32.005298Z",
     "iopub.status.idle": "2024-01-26T18:06:32.009672Z",
     "shell.execute_reply": "2024-01-26T18:06:32.008696Z"
    },
    "papermill": {
     "duration": 0.078031,
     "end_time": "2024-01-26T18:06:32.011896",
     "exception": false,
     "start_time": "2024-01-26T18:06:31.933865",
     "status": "completed"
    },
    "tags": []
   },
   "outputs": [],
   "source": [
    "w = A_inv@B"
   ]
  },
  {
   "cell_type": "code",
   "execution_count": 18,
   "id": "96586ad6",
   "metadata": {
    "execution": {
     "iopub.execute_input": "2024-01-26T18:06:32.041351Z",
     "iopub.status.busy": "2024-01-26T18:06:32.040986Z",
     "iopub.status.idle": "2024-01-26T18:06:32.047105Z",
     "shell.execute_reply": "2024-01-26T18:06:32.046172Z"
    },
    "papermill": {
     "duration": 0.023288,
     "end_time": "2024-01-26T18:06:32.049287",
     "exception": false,
     "start_time": "2024-01-26T18:06:32.025999",
     "status": "completed"
    },
    "tags": []
   },
   "outputs": [
    {
     "data": {
      "text/plain": [
       "array([[0.97299745],\n",
       "       [3.68212267]])"
      ]
     },
     "execution_count": 18,
     "metadata": {},
     "output_type": "execute_result"
    }
   ],
   "source": [
    "w"
   ]
  },
  {
   "cell_type": "code",
   "execution_count": 19,
   "id": "179ac224",
   "metadata": {
    "execution": {
     "iopub.execute_input": "2024-01-26T18:06:32.079310Z",
     "iopub.status.busy": "2024-01-26T18:06:32.078383Z",
     "iopub.status.idle": "2024-01-26T18:06:32.083941Z",
     "shell.execute_reply": "2024-01-26T18:06:32.083185Z"
    },
    "papermill": {
     "duration": 0.022724,
     "end_time": "2024-01-26T18:06:32.085938",
     "exception": false,
     "start_time": "2024-01-26T18:06:32.063214",
     "status": "completed"
    },
    "tags": []
   },
   "outputs": [
    {
     "name": "stdout",
     "output_type": "stream",
     "text": [
      "[0.97299745] [3.68212267]\n"
     ]
    }
   ],
   "source": [
    "print(w[0], w[1])"
   ]
  },
  {
   "cell_type": "code",
   "execution_count": 20,
   "id": "088e8c38",
   "metadata": {
    "execution": {
     "iopub.execute_input": "2024-01-26T18:06:32.115546Z",
     "iopub.status.busy": "2024-01-26T18:06:32.115174Z",
     "iopub.status.idle": "2024-01-26T18:06:32.119492Z",
     "shell.execute_reply": "2024-01-26T18:06:32.118435Z"
    },
    "papermill": {
     "duration": 0.021972,
     "end_time": "2024-01-26T18:06:32.121886",
     "exception": false,
     "start_time": "2024-01-26T18:06:32.099914",
     "status": "completed"
    },
    "tags": []
   },
   "outputs": [],
   "source": [
    "b0 = e**(w[1])\n",
    "b1 = w[0]"
   ]
  },
  {
   "cell_type": "code",
   "execution_count": 21,
   "id": "b4ec7e19",
   "metadata": {
    "execution": {
     "iopub.execute_input": "2024-01-26T18:06:32.151582Z",
     "iopub.status.busy": "2024-01-26T18:06:32.151176Z",
     "iopub.status.idle": "2024-01-26T18:06:32.156995Z",
     "shell.execute_reply": "2024-01-26T18:06:32.156086Z"
    },
    "papermill": {
     "duration": 0.023351,
     "end_time": "2024-01-26T18:06:32.159202",
     "exception": false,
     "start_time": "2024-01-26T18:06:32.135851",
     "status": "completed"
    },
    "tags": []
   },
   "outputs": [],
   "source": [
    "y_list = [b0*(e**(b1*i)) for i in df['x']]"
   ]
  },
  {
   "cell_type": "code",
   "execution_count": 22,
   "id": "5be5e800",
   "metadata": {
    "execution": {
     "iopub.execute_input": "2024-01-26T18:06:32.188549Z",
     "iopub.status.busy": "2024-01-26T18:06:32.187828Z",
     "iopub.status.idle": "2024-01-26T18:06:32.194501Z",
     "shell.execute_reply": "2024-01-26T18:06:32.193496Z"
    },
    "papermill": {
     "duration": 0.024213,
     "end_time": "2024-01-26T18:06:32.197133",
     "exception": false,
     "start_time": "2024-01-26T18:06:32.172920",
     "status": "completed"
    },
    "tags": []
   },
   "outputs": [
    {
     "name": "stdout",
     "output_type": "stream",
     "text": [
      "0      0.1\n",
      "1      0.2\n",
      "2      0.3\n",
      "3      0.4\n",
      "4      0.5\n",
      "      ... \n",
      "95     9.6\n",
      "96     9.7\n",
      "97     9.8\n",
      "98     9.9\n",
      "99    10.0\n",
      "Name: x, Length: 100, dtype: float64\n"
     ]
    }
   ],
   "source": [
    "print(df['x'])"
   ]
  },
  {
   "cell_type": "code",
   "execution_count": 23,
   "id": "7eb27624",
   "metadata": {
    "execution": {
     "iopub.execute_input": "2024-01-26T18:06:32.225857Z",
     "iopub.status.busy": "2024-01-26T18:06:32.224913Z",
     "iopub.status.idle": "2024-01-26T18:06:32.232167Z",
     "shell.execute_reply": "2024-01-26T18:06:32.231131Z"
    },
    "papermill": {
     "duration": 0.024178,
     "end_time": "2024-01-26T18:06:32.234711",
     "exception": false,
     "start_time": "2024-01-26T18:06:32.210533",
     "status": "completed"
    },
    "tags": []
   },
   "outputs": [
    {
     "name": "stdout",
     "output_type": "stream",
     "text": [
      "0     5.764952e+01\n",
      "1     4.740870e+01\n",
      "2     6.946902e+01\n",
      "3     3.755086e+01\n",
      "4     7.860685e+01\n",
      "          ...     \n",
      "95    3.636073e+05\n",
      "96    8.819300e+05\n",
      "97    1.053557e+06\n",
      "98    4.503040e+05\n",
      "99    1.311153e+06\n",
      "Name: y, Length: 100, dtype: float64\n"
     ]
    }
   ],
   "source": [
    "print(df['y'])"
   ]
  },
  {
   "cell_type": "code",
   "execution_count": 24,
   "id": "f56f78f7",
   "metadata": {
    "execution": {
     "iopub.execute_input": "2024-01-26T18:06:32.264263Z",
     "iopub.status.busy": "2024-01-26T18:06:32.263861Z",
     "iopub.status.idle": "2024-01-26T18:06:32.279094Z",
     "shell.execute_reply": "2024-01-26T18:06:32.278406Z"
    },
    "papermill": {
     "duration": 0.032723,
     "end_time": "2024-01-26T18:06:32.281397",
     "exception": false,
     "start_time": "2024-01-26T18:06:32.248674",
     "status": "completed"
    },
    "tags": []
   },
   "outputs": [
    {
     "name": "stdout",
     "output_type": "stream",
     "text": [
      "[array([43.7907414]), array([48.26574794]), array([53.19805853]), array([58.63440539]), array([64.62629635]), array([71.23050284]), array([78.50959782]), array([86.53254862]), array([95.37537038]), array([105.12184628]), array([115.86432139]), array([127.70457755]), array([140.75479778]), array([155.13862916]), array([170.99235434]), array([188.46618281]), array([207.72567404]), array([228.95330618]), array([252.35020491]), array([278.13804911]), array([306.56117118]), array([337.888872]), array([372.41797251]), array([410.47562599]), array([452.42241773]), array([498.6557815]), array([549.61376511]), array([605.77918075]), array([667.68417956]), array([735.91529356]), array([811.11899289]), array([894.00781094]), array([985.36709536]), array([1086.06244905]), array([1197.04793147]), array([1319.37509808]), array([1454.20296353]), array([1602.80898299]), array([1766.60115568]), array([1947.13136522]), array([2146.11008333]), array([2365.42257603]), array([2607.14676597]), array([2873.57292021]), array([3167.22534976]), array([3490.88632679]), array([3847.62244578]), array([4240.81367864]), array([4674.18539901]), array([5151.84367904]), array([5678.3141933]), array([6258.58509818]), array([6898.1542933]), array([7603.08151245]), array([8380.04573792]), array([9236.40848182]), array([10180.28353437]), array([11220.61383969]), array([12367.25622764]), array([13631.07480439]), array([15024.04388676]), array([16559.36145539]), array([18251.5742018]), array([20116.7153541]), array([22172.45658722]), array([24438.27545693]), array([26935.63994407]), array([29688.21185747]), array([32722.07102278]), array([36065.96238132]), array([39751.56834007]), array([43813.80895338]), array([48291.17278044]), array([53226.08155323]), array([58665.29211024]), array([64660.33940406]), array([71268.02478017]), array([78550.95415333]), array([86578.13118057]), array([95425.611051]), array([105177.22108676]), array([115925.35498274]), array([127771.84821026]), array([140828.94287878]), array([155220.35119753]), array([171082.42761307]), array([188565.46072837]), array([207835.09724401]), array([229073.91141292]), array([252483.13487882]), array([278284.56328809]), array([306722.65773953]), array([338066.8609829]), array([372614.15031128]), array([410691.85133535]), array([452660.73929923]), array([498918.45732194]), array([549903.28395137]), array([606098.28572723]), array([668035.89409729])]\n"
     ]
    }
   ],
   "source": [
    "print(y_list)"
   ]
  },
  {
   "cell_type": "code",
   "execution_count": 25,
   "id": "994dbc34",
   "metadata": {
    "execution": {
     "iopub.execute_input": "2024-01-26T18:06:32.310697Z",
     "iopub.status.busy": "2024-01-26T18:06:32.310294Z",
     "iopub.status.idle": "2024-01-26T18:06:32.316966Z",
     "shell.execute_reply": "2024-01-26T18:06:32.316058Z"
    },
    "papermill": {
     "duration": 0.023321,
     "end_time": "2024-01-26T18:06:32.318945",
     "exception": false,
     "start_time": "2024-01-26T18:06:32.295624",
     "status": "completed"
    },
    "tags": []
   },
   "outputs": [],
   "source": [
    "df['predicted'] = np.array(y_list)"
   ]
  },
  {
   "cell_type": "code",
   "execution_count": 26,
   "id": "6264b080",
   "metadata": {
    "execution": {
     "iopub.execute_input": "2024-01-26T18:06:32.348813Z",
     "iopub.status.busy": "2024-01-26T18:06:32.348119Z",
     "iopub.status.idle": "2024-01-26T18:06:32.364209Z",
     "shell.execute_reply": "2024-01-26T18:06:32.363053Z"
    },
    "papermill": {
     "duration": 0.033761,
     "end_time": "2024-01-26T18:06:32.366649",
     "exception": false,
     "start_time": "2024-01-26T18:06:32.332888",
     "status": "completed"
    },
    "tags": []
   },
   "outputs": [
    {
     "data": {
      "text/html": [
       "<div>\n",
       "<style scoped>\n",
       "    .dataframe tbody tr th:only-of-type {\n",
       "        vertical-align: middle;\n",
       "    }\n",
       "\n",
       "    .dataframe tbody tr th {\n",
       "        vertical-align: top;\n",
       "    }\n",
       "\n",
       "    .dataframe thead th {\n",
       "        text-align: right;\n",
       "    }\n",
       "</style>\n",
       "<table border=\"1\" class=\"dataframe\">\n",
       "  <thead>\n",
       "    <tr style=\"text-align: right;\">\n",
       "      <th></th>\n",
       "      <th>x</th>\n",
       "      <th>y</th>\n",
       "      <th>predicted</th>\n",
       "    </tr>\n",
       "  </thead>\n",
       "  <tbody>\n",
       "    <tr>\n",
       "      <th>0</th>\n",
       "      <td>0.1</td>\n",
       "      <td>5.764952e+01</td>\n",
       "      <td>43.790741</td>\n",
       "    </tr>\n",
       "    <tr>\n",
       "      <th>1</th>\n",
       "      <td>0.2</td>\n",
       "      <td>4.740870e+01</td>\n",
       "      <td>48.265748</td>\n",
       "    </tr>\n",
       "    <tr>\n",
       "      <th>2</th>\n",
       "      <td>0.3</td>\n",
       "      <td>6.946902e+01</td>\n",
       "      <td>53.198059</td>\n",
       "    </tr>\n",
       "    <tr>\n",
       "      <th>3</th>\n",
       "      <td>0.4</td>\n",
       "      <td>3.755086e+01</td>\n",
       "      <td>58.634405</td>\n",
       "    </tr>\n",
       "    <tr>\n",
       "      <th>4</th>\n",
       "      <td>0.5</td>\n",
       "      <td>7.860685e+01</td>\n",
       "      <td>64.626296</td>\n",
       "    </tr>\n",
       "    <tr>\n",
       "      <th>...</th>\n",
       "      <td>...</td>\n",
       "      <td>...</td>\n",
       "      <td>...</td>\n",
       "    </tr>\n",
       "    <tr>\n",
       "      <th>95</th>\n",
       "      <td>9.6</td>\n",
       "      <td>3.636073e+05</td>\n",
       "      <td>452660.739299</td>\n",
       "    </tr>\n",
       "    <tr>\n",
       "      <th>96</th>\n",
       "      <td>9.7</td>\n",
       "      <td>8.819300e+05</td>\n",
       "      <td>498918.457322</td>\n",
       "    </tr>\n",
       "    <tr>\n",
       "      <th>97</th>\n",
       "      <td>9.8</td>\n",
       "      <td>1.053557e+06</td>\n",
       "      <td>549903.283951</td>\n",
       "    </tr>\n",
       "    <tr>\n",
       "      <th>98</th>\n",
       "      <td>9.9</td>\n",
       "      <td>4.503040e+05</td>\n",
       "      <td>606098.285727</td>\n",
       "    </tr>\n",
       "    <tr>\n",
       "      <th>99</th>\n",
       "      <td>10.0</td>\n",
       "      <td>1.311153e+06</td>\n",
       "      <td>668035.894097</td>\n",
       "    </tr>\n",
       "  </tbody>\n",
       "</table>\n",
       "<p>100 rows × 3 columns</p>\n",
       "</div>"
      ],
      "text/plain": [
       "       x             y      predicted\n",
       "0    0.1  5.764952e+01      43.790741\n",
       "1    0.2  4.740870e+01      48.265748\n",
       "2    0.3  6.946902e+01      53.198059\n",
       "3    0.4  3.755086e+01      58.634405\n",
       "4    0.5  7.860685e+01      64.626296\n",
       "..   ...           ...            ...\n",
       "95   9.6  3.636073e+05  452660.739299\n",
       "96   9.7  8.819300e+05  498918.457322\n",
       "97   9.8  1.053557e+06  549903.283951\n",
       "98   9.9  4.503040e+05  606098.285727\n",
       "99  10.0  1.311153e+06  668035.894097\n",
       "\n",
       "[100 rows x 3 columns]"
      ]
     },
     "execution_count": 26,
     "metadata": {},
     "output_type": "execute_result"
    }
   ],
   "source": [
    "df"
   ]
  },
  {
   "cell_type": "code",
   "execution_count": 27,
   "id": "90972629",
   "metadata": {
    "execution": {
     "iopub.execute_input": "2024-01-26T18:06:32.397457Z",
     "iopub.status.busy": "2024-01-26T18:06:32.396790Z",
     "iopub.status.idle": "2024-01-26T18:06:32.401093Z",
     "shell.execute_reply": "2024-01-26T18:06:32.400307Z"
    },
    "papermill": {
     "duration": 0.022108,
     "end_time": "2024-01-26T18:06:32.403066",
     "exception": false,
     "start_time": "2024-01-26T18:06:32.380958",
     "status": "completed"
    },
    "tags": []
   },
   "outputs": [],
   "source": [
    "def R2(df):\n",
    "  return 1 - Rss(df) / Tss(df)"
   ]
  },
  {
   "cell_type": "code",
   "execution_count": 28,
   "id": "4f94d2e0",
   "metadata": {
    "execution": {
     "iopub.execute_input": "2024-01-26T18:06:32.434512Z",
     "iopub.status.busy": "2024-01-26T18:06:32.434059Z",
     "iopub.status.idle": "2024-01-26T18:06:32.439059Z",
     "shell.execute_reply": "2024-01-26T18:06:32.438094Z"
    },
    "papermill": {
     "duration": 0.023218,
     "end_time": "2024-01-26T18:06:32.441068",
     "exception": false,
     "start_time": "2024-01-26T18:06:32.417850",
     "status": "completed"
    },
    "tags": []
   },
   "outputs": [],
   "source": [
    "def Rss(df):\n",
    "  return np.sum((df['y'] - df['predicted']) ** 2)"
   ]
  },
  {
   "cell_type": "code",
   "execution_count": 29,
   "id": "9be7cafb",
   "metadata": {
    "execution": {
     "iopub.execute_input": "2024-01-26T18:06:32.471908Z",
     "iopub.status.busy": "2024-01-26T18:06:32.471048Z",
     "iopub.status.idle": "2024-01-26T18:06:32.476446Z",
     "shell.execute_reply": "2024-01-26T18:06:32.475325Z"
    },
    "papermill": {
     "duration": 0.023388,
     "end_time": "2024-01-26T18:06:32.478796",
     "exception": false,
     "start_time": "2024-01-26T18:06:32.455408",
     "status": "completed"
    },
    "tags": []
   },
   "outputs": [],
   "source": [
    "def Tss(df):\n",
    "  return np.sum((df['y'] - np.mean(df['predicted']))** 2)"
   ]
  },
  {
   "cell_type": "code",
   "execution_count": 30,
   "id": "1005e054",
   "metadata": {
    "execution": {
     "iopub.execute_input": "2024-01-26T18:06:32.510068Z",
     "iopub.status.busy": "2024-01-26T18:06:32.508933Z",
     "iopub.status.idle": "2024-01-26T18:06:32.516565Z",
     "shell.execute_reply": "2024-01-26T18:06:32.515822Z"
    },
    "papermill": {
     "duration": 0.025287,
     "end_time": "2024-01-26T18:06:32.518516",
     "exception": false,
     "start_time": "2024-01-26T18:06:32.493229",
     "status": "completed"
    },
    "tags": []
   },
   "outputs": [
    {
     "data": {
      "text/plain": [
       "0.789068314366836"
      ]
     },
     "execution_count": 30,
     "metadata": {},
     "output_type": "execute_result"
    }
   ],
   "source": [
    "R2(df)"
   ]
  },
  {
   "cell_type": "code",
   "execution_count": 31,
   "id": "7f51650e",
   "metadata": {
    "execution": {
     "iopub.execute_input": "2024-01-26T18:06:32.550612Z",
     "iopub.status.busy": "2024-01-26T18:06:32.549929Z",
     "iopub.status.idle": "2024-01-26T18:06:32.743285Z",
     "shell.execute_reply": "2024-01-26T18:06:32.742180Z"
    },
    "papermill": {
     "duration": 0.211966,
     "end_time": "2024-01-26T18:06:32.745828",
     "exception": false,
     "start_time": "2024-01-26T18:06:32.533862",
     "status": "completed"
    },
    "tags": []
   },
   "outputs": [
    {
     "data": {
      "image/png": "[encoded data removed]",
      "text/plain": [
       "<Figure size 640x480 with 1 Axes>"
      ]
     },
     "metadata": {},
     "output_type": "display_data"
    }
   ],
   "source": [
    "x_list = [float(i) for i in df['x']]\n",
    "y_list = [float(i) for i in df['y']]\n",
    "plt.scatter(x_list, y_list,s=0.4)\n",
    "plt.plot(x_list, df['predicted'])\n",
    "plt.show()"
   ]
  },
  {
   "cell_type": "markdown",
   "id": "bbae7644",
   "metadata": {
    "papermill": {
     "duration": 0.015025,
     "end_time": "2024-01-26T18:06:32.775926",
     "exception": false,
     "start_time": "2024-01-26T18:06:32.760901",
     "status": "completed"
    },
    "tags": []
   },
   "source": [
    "**Verify using Scikit Learn**"
   ]
  },
  {
   "cell_type": "code",
   "execution_count": 32,
   "id": "4079cd2b",
   "metadata": {
    "execution": {
     "iopub.execute_input": "2024-01-26T18:06:32.807325Z",
     "iopub.status.busy": "2024-01-26T18:06:32.806959Z",
     "iopub.status.idle": "2024-01-26T18:06:34.134511Z",
     "shell.execute_reply": "2024-01-26T18:06:34.133284Z"
    },
    "papermill": {
     "duration": 1.346421,
     "end_time": "2024-01-26T18:06:34.137427",
     "exception": false,
     "start_time": "2024-01-26T18:06:32.791006",
     "status": "completed"
    },
    "tags": []
   },
   "outputs": [],
   "source": [
    "from sklearn.linear_model import LinearRegression\n",
    "from sklearn.preprocessing import PolynomialFeatures\n",
    "from sklearn.metrics import r2_score"
   ]
  },
  {
   "cell_type": "code",
   "execution_count": 33,
   "id": "7bbb26e5",
   "metadata": {
    "execution": {
     "iopub.execute_input": "2024-01-26T18:06:34.170735Z",
     "iopub.status.busy": "2024-01-26T18:06:34.170228Z",
     "iopub.status.idle": "2024-01-26T18:06:34.181721Z",
     "shell.execute_reply": "2024-01-26T18:06:34.180811Z"
    },
    "papermill": {
     "duration": 0.030999,
     "end_time": "2024-01-26T18:06:34.183996",
     "exception": false,
     "start_time": "2024-01-26T18:06:34.152997",
     "status": "completed"
    },
    "tags": []
   },
   "outputs": [],
   "source": [
    "X = df[['x']]\n",
    "y = df[['y']]"
   ]
  },
  {
   "cell_type": "code",
   "execution_count": 34,
   "id": "9b2ea3e1",
   "metadata": {
    "execution": {
     "iopub.execute_input": "2024-01-26T18:06:34.217458Z",
     "iopub.status.busy": "2024-01-26T18:06:34.216340Z",
     "iopub.status.idle": "2024-01-26T18:06:34.222031Z",
     "shell.execute_reply": "2024-01-26T18:06:34.220941Z"
    },
    "papermill": {
     "duration": 0.024942,
     "end_time": "2024-01-26T18:06:34.224511",
     "exception": false,
     "start_time": "2024-01-26T18:06:34.199569",
     "status": "completed"
    },
    "tags": []
   },
   "outputs": [],
   "source": [
    "# Linearize the exponential function by taking the natural logarithm\n",
    "y_log = np.log(y)"
   ]
  },
  {
   "cell_type": "code",
   "execution_count": 35,
   "id": "f4336b5b",
   "metadata": {
    "execution": {
     "iopub.execute_input": "2024-01-26T18:06:34.257238Z",
     "iopub.status.busy": "2024-01-26T18:06:34.256798Z",
     "iopub.status.idle": "2024-01-26T18:06:34.284531Z",
     "shell.execute_reply": "2024-01-26T18:06:34.283464Z"
    },
    "papermill": {
     "duration": 0.046907,
     "end_time": "2024-01-26T18:06:34.287052",
     "exception": false,
     "start_time": "2024-01-26T18:06:34.240145",
     "status": "completed"
    },
    "tags": []
   },
   "outputs": [
    {
     "data": {
      "text/html": [
       "<style>#sk-container-id-1 {color: black;background-color: white;}#sk-container-id-1 pre{padding: 0;}#sk-container-id-1 div.sk-toggleable {background-color: white;}#sk-container-id-1 label.sk-toggleable__label {cursor: pointer;display: block;width: 100%;margin-bottom: 0;padding: 0.3em;box-sizing: border-box;text-align: center;}#sk-container-id-1 label.sk-toggleable__label-arrow:before {content: \"▸\";float: left;margin-right: 0.25em;color: #696969;}#sk-container-id-1 label.sk-toggleable__label-arrow:hover:before {color: black;}#sk-container-id-1 div.sk-estimator:hover label.sk-toggleable__label-arrow:before {color: black;}#sk-container-id-1 div.sk-toggleable__content {max-height: 0;max-width: 0;overflow: hidden;text-align: left;background-color: #f0f8ff;}#sk-container-id-1 div.sk-toggleable__content pre {margin: 0.2em;color: black;border-radius: 0.25em;background-color: #f0f8ff;}#sk-container-id-1 input.sk-toggleable__control:checked~div.sk-toggleable__content {max-height: 200px;max-width: 100%;overflow: auto;}#sk-container-id-1 input.sk-toggleable__control:checked~label.sk-toggleable__label-arrow:before {content: \"▾\";}#sk-container-id-1 div.sk-estimator input.sk-toggleable__control:checked~label.sk-toggleable__label {background-color: #d4ebff;}#sk-container-id-1 div.sk-label input.sk-toggleable__control:checked~label.sk-toggleable__label {background-color: #d4ebff;}#sk-container-id-1 input.sk-hidden--visually {border: 0;clip: rect(1px 1px 1px 1px);clip: rect(1px, 1px, 1px, 1px);height: 1px;margin: -1px;overflow: hidden;padding: 0;position: absolute;width: 1px;}#sk-container-id-1 div.sk-estimator {font-family: monospace;background-color: #f0f8ff;border: 1px dotted black;border-radius: 0.25em;box-sizing: border-box;margin-bottom: 0.5em;}#sk-container-id-1 div.sk-estimator:hover {background-color: #d4ebff;}#sk-container-id-1 div.sk-parallel-item::after {content: \"\";width: 100%;border-bottom: 1px solid gray;flex-grow: 1;}#sk-container-id-1 div.sk-label:hover label.sk-toggleable__label {background-color: #d4ebff;}#sk-container-id-1 div.sk-serial::before {content: \"\";position: absolute;border-left: 1px solid gray;box-sizing: border-box;top: 0;bottom: 0;left: 50%;z-index: 0;}#sk-container-id-1 div.sk-serial {display: flex;flex-direction: column;align-items: center;background-color: white;padding-right: 0.2em;padding-left: 0.2em;position: relative;}#sk-container-id-1 div.sk-item {position: relative;z-index: 1;}#sk-container-id-1 div.sk-parallel {display: flex;align-items: stretch;justify-content: center;background-color: white;position: relative;}#sk-container-id-1 div.sk-item::before, #sk-container-id-1 div.sk-parallel-item::before {content: \"\";position: absolute;border-left: 1px solid gray;box-sizing: border-box;top: 0;bottom: 0;left: 50%;z-index: -1;}#sk-container-id-1 div.sk-parallel-item {display: flex;flex-direction: column;z-index: 1;position: relative;background-color: white;}#sk-container-id-1 div.sk-parallel-item:first-child::after {align-self: flex-end;width: 50%;}#sk-container-id-1 div.sk-parallel-item:last-child::after {align-self: flex-start;width: 50%;}#sk-container-id-1 div.sk-parallel-item:only-child::after {width: 0;}#sk-container-id-1 div.sk-dashed-wrapped {border: 1px dashed gray;margin: 0 0.4em 0.5em 0.4em;box-sizing: border-box;padding-bottom: 0.4em;background-color: white;}#sk-container-id-1 div.sk-label label {font-family: monospace;font-weight: bold;display: inline-block;line-height: 1.2em;}#sk-container-id-1 div.sk-label-container {text-align: center;}#sk-container-id-1 div.sk-container {/* jupyter's `normalize.less` sets `[hidden] { display: none; }` but bootstrap.min.css set `[hidden] { display: none !important; }` so we also need the `!important` here to be able to override the default hidden behavior on the sphinx rendered scikit-learn.org. See: https://github.com/scikit-learn/scikit-learn/issues/21755 */display: inline-block !important;position: relative;}#sk-container-id-1 div.sk-text-repr-fallback {display: none;}</style><div id=\"sk-container-id-1\" class=\"sk-top-container\"><div class=\"sk-text-repr-fallback\"><pre>LinearRegression()</pre><b>In a Jupyter environment, please rerun this cell to show the HTML representation or trust the notebook. <br />On GitHub, the HTML representation is unable to render, please try loading this page with nbviewer.org.</b></div><div class=\"sk-container\" hidden><div class=\"sk-item\"><div class=\"sk-estimator sk-toggleable\"><input class=\"sk-toggleable__control sk-hidden--visually\" id=\"sk-estimator-id-1\" type=\"checkbox\" checked><label for=\"sk-estimator-id-1\" class=\"sk-toggleable__label sk-toggleable__label-arrow\">LinearRegression</label><div class=\"sk-toggleable__content\"><pre>LinearRegression()</pre></div></div></div></div></div>"
      ],
      "text/plain": [
       "LinearRegression()"
      ]
     },
     "execution_count": 35,
     "metadata": {},
     "output_type": "execute_result"
    }
   ],
   "source": [
    "model = LinearRegression()\n",
    "model.fit(X, y_log)"
   ]
  },
  {
   "cell_type": "code",
   "execution_count": 36,
   "id": "43a6496c",
   "metadata": {
    "execution": {
     "iopub.execute_input": "2024-01-26T18:06:34.321306Z",
     "iopub.status.busy": "2024-01-26T18:06:34.320906Z",
     "iopub.status.idle": "2024-01-26T18:06:34.328892Z",
     "shell.execute_reply": "2024-01-26T18:06:34.328043Z"
    },
    "papermill": {
     "duration": 0.02811,
     "end_time": "2024-01-26T18:06:34.331364",
     "exception": false,
     "start_time": "2024-01-26T18:06:34.303254",
     "status": "completed"
    },
    "tags": []
   },
   "outputs": [
    {
     "name": "stderr",
     "output_type": "stream",
     "text": [
      "/opt/conda/lib/python3.10/site-packages/sklearn/base.py:439: UserWarning: X does not have valid feature names, but LinearRegression was fitted with feature names\n",
      "  warnings.warn(\n"
     ]
    }
   ],
   "source": [
    "X_new = np.linspace(1, 10, 100).reshape(-1, 1)\n",
    "y_pred_log = model.predict(X_new)"
   ]
  },
  {
   "cell_type": "code",
   "execution_count": 37,
   "id": "5a062a28",
   "metadata": {
    "execution": {
     "iopub.execute_input": "2024-01-26T18:06:34.365898Z",
     "iopub.status.busy": "2024-01-26T18:06:34.365498Z",
     "iopub.status.idle": "2024-01-26T18:06:34.370144Z",
     "shell.execute_reply": "2024-01-26T18:06:34.368989Z"
    },
    "papermill": {
     "duration": 0.024833,
     "end_time": "2024-01-26T18:06:34.372541",
     "exception": false,
     "start_time": "2024-01-26T18:06:34.347708",
     "status": "completed"
    },
    "tags": []
   },
   "outputs": [],
   "source": [
    "y_pred = np.exp(y_pred_log)"
   ]
  },
  {
   "cell_type": "code",
   "execution_count": 38,
   "id": "cf843b4a",
   "metadata": {
    "execution": {
     "iopub.execute_input": "2024-01-26T18:06:34.406884Z",
     "iopub.status.busy": "2024-01-26T18:06:34.406418Z",
     "iopub.status.idle": "2024-01-26T18:06:34.700442Z",
     "shell.execute_reply": "2024-01-26T18:06:34.699152Z"
    },
    "papermill": {
     "duration": 0.314041,
     "end_time": "2024-01-26T18:06:34.703052",
     "exception": false,
     "start_time": "2024-01-26T18:06:34.389011",
     "status": "completed"
    },
    "tags": []
   },
   "outputs": [
    {
     "data": {
      "image/png": "[encoded data removed]",
      "text/plain": [
       "<Figure size 640x480 with 1 Axes>"
      ]
     },
     "metadata": {},
     "output_type": "display_data"
    }
   ],
   "source": [
    "plt.scatter(X, y, label='Original Data')\n",
    "plt.plot(X_new, y_pred, 'r-', label='Exponential Regression')\n",
    "\n",
    "plt.xlabel('X')\n",
    "plt.ylabel('y')\n",
    "plt.legend()\n",
    "plt.show()"
   ]
  },
  {
   "cell_type": "code",
   "execution_count": 39,
   "id": "934e16b8",
   "metadata": {
    "execution": {
     "iopub.execute_input": "2024-01-26T18:06:34.738977Z",
     "iopub.status.busy": "2024-01-26T18:06:34.738556Z",
     "iopub.status.idle": "2024-01-26T18:06:34.746551Z",
     "shell.execute_reply": "2024-01-26T18:06:34.745297Z"
    },
    "papermill": {
     "duration": 0.030086,
     "end_time": "2024-01-26T18:06:34.749647",
     "exception": false,
     "start_time": "2024-01-26T18:06:34.719561",
     "status": "completed"
    },
    "tags": []
   },
   "outputs": [
    {
     "name": "stdout",
     "output_type": "stream",
     "text": [
      "R-squared: 0.7890957012673756\n"
     ]
    }
   ],
   "source": [
    "r_squared = r2_score(y, y_pred)\n",
    "print(f'R-squared: {r_squared}')"
   ]
  }
 ],
 "metadata": {
  "kaggle": {
   "accelerator": "none",
   "dataSources": [
    {
     "datasetId": 4349948,
     "sourceId": 7471948,
     "sourceType": "datasetVersion"
    }
   ],
   "dockerImageVersionId": 30635,
   "isGpuEnabled": false,
   "isInternetEnabled": true,
   "language": "python",
   "sourceType": "notebook"
  },
  "kernelspec": {
   "display_name": "Python 3",
   "language": "python",
   "name": "python3"
  },
  "language_info": {
   "codemirror_mode": {
    "name": "ipython",
    "version": 3
   },
   "file_extension": ".py",
   "mimetype": "text/x-python",
   "name": "python",
   "nbconvert_exporter": "python",
   "pygments_lexer": "ipython3",
   "version": "3.10.12"
  },
  "papermill": {
   "default_parameters": {},
   "duration": 7.986917,
   "end_time": "2024-01-26T18:06:35.387613",
   "environment_variables": {},
   "exception": null,
   "input_path": "__notebook__.ipynb",
   "output_path": "__notebook__.ipynb",
   "parameters": {},
   "start_time": "2024-01-26T18:06:27.400696",
   "version": "2.4.0"
  }
 },
 "nbformat": 4,
 "nbformat_minor": 5
}
